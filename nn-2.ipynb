{
 "cells": [
  {
   "cell_type": "markdown",
   "id": "9f39f409-59a4-4be2-9ff5-978189bd8926",
   "metadata": {},
   "source": [
    "# Deep Neural Network"
   ]
  },
  {
   "cell_type": "code",
   "execution_count": 1,
   "id": "880f3c05-1bc2-4d26-b311-6466038b97bd",
   "metadata": {},
   "outputs": [],
   "source": [
    "import time\n",
    "import random\n",
    "import numpy as np\n",
    "import matplotlib.pyplot as plt\n",
    "%matplotlib inline"
   ]
  },
  {
   "cell_type": "code",
   "execution_count": 2,
   "id": "c3d976ac-6399-4dcf-be3d-18220ad6bec8",
   "metadata": {},
   "outputs": [
    {
     "name": "stdout",
     "output_type": "stream",
     "text": [
      "Shape of x_train : (12288, 209)\n",
      "Shape of y_train : (1, 209)\n",
      "Shape of x_test : (12288, 50)\n",
      "Shape of y_test : (1, 50)\n"
     ]
    }
   ],
   "source": [
    "x_train = np.loadtxt(\"cat_train_x.csv\", delimiter=\",\") / 255.0\n",
    "y_train = np.loadtxt(\"cat_train_y.csv\", delimiter=\",\").reshape(1, x_train.shape[1])\n",
    "x_test = np.loadtxt(\"cat_test_x.csv\", delimiter=\",\") / 255.0\n",
    "y_test = np.loadtxt(\"cat_test_y.csv\", delimiter=\",\").reshape(1, x_test.shape[1])\n",
    "\n",
    "print(f\"Shape of x_train : {x_train.shape}\")\n",
    "print(f\"Shape of y_train : {y_train.shape}\")\n",
    "print(f\"Shape of x_test : {x_test.shape}\")\n",
    "print(f\"Shape of y_test : {y_test.shape}\")"
   ]
  },
  {
   "cell_type": "code",
   "execution_count": 3,
   "id": "b36f163b-95e2-4316-89b4-53a3bac8397c",
   "metadata": {},
   "outputs": [
    {
     "name": "stdout",
     "output_type": "stream",
     "text": [
      "This is Cat\n"
     ]
    },
    {
     "data": {
      "image/png": "[encoded data removed]",
      "text/plain": [
       "<Figure size 640x480 with 1 Axes>"
      ]
     },
     "metadata": {},
     "output_type": "display_data"
    }
   ],
   "source": [
    "index = random.randrange(0, x_train.shape[1])\n",
    "result = \"Cat\" if y_train[0][index] == 1 else \"not a cat\"\n",
    "print(f\"This is {result}\")\n",
    "plt.imshow(x_train[:,index].reshape(64, 64, 3))\n",
    "plt.show()"
   ]
  },
  {
   "cell_type": "markdown",
   "id": "dc2c73fa-eb81-423c-bf69-6dceebd1450c",
   "metadata": {},
   "source": [
    "---\n",
    "# Activation Functions"
   ]
  },
  {
   "cell_type": "code",
   "execution_count": 4,
   "id": "cfccb4d2-d508-4cbb-ac30-f5c182a5977c",
   "metadata": {},
   "outputs": [],
   "source": [
    "def sigmoid(z):\n",
    "    return (1 / (1 + np.exp(-z)))\n",
    "\n",
    "def softmax(z):\n",
    "    expZ = np.exp(z)\n",
    "    return (expZ / np.sum(expZ, 0))\n",
    "\n",
    "def relu(z):\n",
    "    return np.maximum(0, z)\n",
    "\n",
    "def tanh(x):\n",
    "    return np.tanh(x)\n",
    "\n",
    "def derivative_relu(x):\n",
    "    return np.array(x > 0, dtype='float')\n",
    "\n",
    "def derivative_tanh(x):\n",
    "    return (1 - np.power(x, 2))"
   ]
  },
  {
   "cell_type": "markdown",
   "id": "91eeb3c8-aed4-45bd-92e2-3cb648050419",
   "metadata": {},
   "source": [
    "---\n",
    "# Initialize Parameters"
   ]
  },
  {
   "cell_type": "raw",
   "id": "db43117f-fa61-4dfb-b62f-59c5c4885549",
   "metadata": {},
   "source": [
    "layers_dimention = [x.shape[0], 100, 200, y.shape[0]]\n",
    "👉 First hidden layer : dimention(x.shape[0], 100)\n",
    "👉 Second hidden layer : dimention(100, 200)\n",
    "👉 Output layer : dimention(200, y.shape[0])"
   ]
  },
  {
   "cell_type": "code",
   "execution_count": 5,
   "id": "a5556df2-c442-4d47-a7b6-230ea5e29f17",
   "metadata": {},
   "outputs": [],
   "source": [
    "def initialize_params(layers_dimentions):\n",
    "\n",
    "    Ls = len(layers_dimentions) - 1\n",
    "    parameters = {}\n",
    "    \n",
    "    for layer_number in range(1, Ls + 1):\n",
    "        # Trying to compress the initial random weight value to avoid VANISHING GRADIENT PROBLEM\n",
    "        parameters['w' + str(layer_number)] = np.random.randn(layers_dimentions[layer_number], layers_dimentions[layer_number - 1]) / np.sqrt(layers_dimentions[layer_number])   \n",
    "        parameters['b' + str(layer_number)] = np.zeros((layers_dimentions[layer_number], 1))\n",
    "\n",
    "    return parameters"
   ]
  },
  {
   "cell_type": "code",
   "execution_count": 6,
   "id": "69d92b9c-a5aa-44c5-8077-bb61e03eaf1c",
   "metadata": {},
   "outputs": [
    {
     "name": "stdout",
     "output_type": "stream",
     "text": [
      "Shape of W1 is (100, 12288)\n",
      "Shape of B1 is (100, 1)\n",
      "\n",
      "Shape of W2 is (200, 100)\n",
      "Shape of B2 is (200, 1)\n",
      "\n",
      "Shape of W3 is (1, 200)\n",
      "Shape of B3 is (1, 1)\n",
      "\n"
     ]
    }
   ],
   "source": [
    "layers_dim = [x_train.shape[0], 100, 200, y_train.shape[0]]\n",
    "params = initialize_params(layers_dim)\n",
    "\n",
    "for l in range(1, len(layers_dim)):\n",
    "    print(f\"Shape of W{l} is {params['w' + str(l)].shape}\")\n",
    "    print(f\"Shape of B{l} is {params['b' + str(l)].shape}\\n\")"
   ]
  },
  {
   "cell_type": "markdown",
   "id": "9cc88246-2817-4921-9a4c-b69b9ed53faf",
   "metadata": {},
   "source": [
    "---\n",
    "# Forward Propagation\n",
    "- **sigmoid activation function will be used only at the last layer (output layer), while we will use relu/tanh for other layers**\n",
    "- **For f(x), you can use either tanh or ReLU activation function. But also use the derivative of the same for Backpropagation as well** \n",
    "\n",
    "![Forward_Propogation](forward_prop.png)\n",
    "\n",
    "$ \\textcolor{red}{\\text{👉 From first to last hidden layer (1 to (L - 1)), process will be repeat }} $\n",
    "$ \\textcolor{red}{\\text{👉 For output layer (L), activation function will be used based on number of outputs}} $"
   ]
  },
  {
   "cell_type": "code",
   "execution_count": 31,
   "id": "dc41d4c6-8244-4572-8612-447e058ef443",
   "metadata": {},
   "outputs": [],
   "source": [
    "def forward_propagation(X, params, activation='relu'):\n",
    "    forward_cache = {}\n",
    "    forward_cache['A0'] = X\n",
    "    Ls = len(params) // 2\n",
    "    \n",
    "    # For all hidden layers....\n",
    "    for l in range(1, Ls):\n",
    "        forward_cache['Z' + str(l)] = params['w' + str(l)].dot(forward_cache['A' + str(l - 1)]) + params['b' + str(l)] \n",
    "        if activation == 'relu':\n",
    "            forward_cache['A' + str(l)] = relu(forward_cache['Z' + str(l)])\n",
    "        else :\n",
    "            forward_cache['A' + str(l)] = tanh(forward_cache['Z' + str(l)])\n",
    "\n",
    "    # For last output layer....\n",
    "    forward_cache['Z' + str(Ls)] = params['w' + str(Ls)].dot(forward_cache['A' + str(Ls - 1)]) + params['b' + str(Ls)] \n",
    "    if forward_cache['Z' + str(Ls)].shape[0] == 1:\n",
    "        forward_cache['A' + str(Ls)] = sigmoid(forward_cache['Z' + str(Ls)])\n",
    "    else:\n",
    "        forward_cache['A' + str(Ls)] = softmax(forward_cache['Z' + str(Ls)])\n",
    "    \n",
    "    return forward_cache['A' + str(Ls)], forward_cache"
   ]
  },
  {
   "cell_type": "code",
   "execution_count": 33,
   "id": "272dccc1-0808-4a2a-b402-c8ea59f448d3",
   "metadata": {},
   "outputs": [],
   "source": [
    "a_of_last_layer, cache = forward_propagation(x_train, params)"
   ]
  },
  {
   "cell_type": "code",
   "execution_count": 9,
   "id": "3945331d-c457-47ca-84d0-7e246b21a13f",
   "metadata": {},
   "outputs": [
    {
     "name": "stdout",
     "output_type": "stream",
     "text": [
      "A0 : (12288, 209)\n",
      "\n",
      "Z1 : (100, 209)\n",
      "A1 : (100, 209)\n",
      "\n",
      "Z2 : (200, 209)\n",
      "A2 : (200, 209)\n",
      "\n",
      "Z3 : (1, 209)\n",
      "A3 : (1, 209)\n",
      "\n"
     ]
    }
   ],
   "source": [
    "for label, value in cache.items():\n",
    "    print(f\"{label} : {value.shape}\")\n",
    "    print() if label.startswith('A') else \"\""
   ]
  },
  {
   "cell_type": "markdown",
   "id": "988a2a78-328f-413f-add2-a1bbf5221c79",
   "metadata": {},
   "source": [
    "---\n",
    "# Cost Function\n",
    "\n",
    "#### For binary classification:\n",
    "$ Cost = - \\frac{1}{m} \\sum_{i=1}^{m} [ y*log(a_L) + (1-y)*log(1 - a_L) ] $\n",
    "\n",
    "#### For multi-class classification:\n",
    "\n",
    "$ Cost = - \\frac{1}{m} \\sum_{i=1}^{m} \\sum_{i=k}^{n}[ y_k*log(a_k) ]$"
   ]
  },
  {
   "cell_type": "code",
   "execution_count": 38,
   "id": "a2dea377-791a-4aca-924d-710e19461e40",
   "metadata": {},
   "outputs": [],
   "source": [
    "def compute_cost(aL, Y):\n",
    "    m = Y.shape[1]\n",
    "\n",
    "    if Y.shape[0] == 1:\n",
    "        cost = -(1 / m) * np.sum(Y * np.log(aL) + (1 - Y) * np.log(1 - aL)) # Element wise multiplication\n",
    "\n",
    "    else:\n",
    "        cost = -(1 / m) * np.sum(Y * np.log(aL))\n",
    "\n",
    "    cost = np.squeeze(cost) # Extracts the value-only from the multi-dimention array\n",
    "\n",
    "    return cost"
   ]
  },
  {
   "cell_type": "markdown",
   "id": "e13e2003-639e-4a8f-9ca1-27a8ae640233",
   "metadata": {},
   "source": [
    "---\n",
    "# Backward Propagation\n",
    "\n",
    "- For last layer, **$dZ_L$** will be $A_L - Y$\n",
    "- Except for last layer, we use a loop to implement backprop for other layers\n",
    "\n",
    "![Backward_Propogation](backward_prop.png)"
   ]
  },
  {
   "cell_type": "code",
   "execution_count": 18,
   "id": "bffe2339-b4b8-4e02-a7f2-49f8618dc415",
   "metadata": {},
   "outputs": [],
   "source": [
    "def backward_propagation(aL, Y, params, forward_cache, activation='relu'):\n",
    "    gradients = {}\n",
    "    Ls = len(params) // 2\n",
    "    m = Y.shape[1]\n",
    "\n",
    "    # For last output layer....\n",
    "    gradients[\"dZ\" + str(Ls)] = aL - Y\n",
    "    gradients[\"dW\" + str(Ls)] = (1 / m) * np.dot(gradients[\"dZ\" + str(Ls)], forward_cache[\"A\" + str(Ls - 1)].T)\n",
    "    gradients[\"dB\" + str(Ls)] = (1 / m) * np.sum(gradients[\"dZ\" + str(Ls)], axis=1, keepdims=True)\n",
    "\n",
    "    for l in reversed(range(1, Ls)):\n",
    "        \n",
    "        if activation == 'relu':\n",
    "            gradients[\"dZ\" + str(l)] = np.dot(params[\"w\" + str(l + 1)].T, gradients[\"dZ\" + str(l + 1)]) * derivative_relu(forward_cache[\"A\" + str(l)]) # f(Z) = A\n",
    "        else:\n",
    "            gradients[\"dZ\" + str(l)] = np.dot(params[\"w\" + str(l + 1)].T, gradients[\"dZ\" + str(l + 1)]) * derivative_tanh(forward_cache[\"A\" + str(l)]) # f(Z) = A\n",
    "        \n",
    "        gradients[\"dW\" + str(l)] = (1 / m) * np.dot(gradients[\"dZ\" + str(l)], forward_cache[\"A\" + str(l - 1)].T)\n",
    "        gradients[\"dB\" + str(l)] = (1 / m) * np.sum(gradients[\"dZ\" + str(l)], axis=1, keepdims=True)\n",
    "\n",
    "    return gradients"
   ]
  },
  {
   "cell_type": "code",
   "execution_count": 19,
   "id": "371017e2-74cc-4888-9415-b2babef8b472",
   "metadata": {},
   "outputs": [],
   "source": [
    "grad = backward_propagation(cache[\"A\" + str(3)], y_train, params, cache, 'tanh')"
   ]
  },
  {
   "cell_type": "code",
   "execution_count": 22,
   "id": "7df8bf52-409f-4f47-88ca-125cba4d0454",
   "metadata": {},
   "outputs": [
    {
     "name": "stdout",
     "output_type": "stream",
     "text": [
      "dZ3 : (1, 209)\n",
      "dW3 : (1, 200)\n",
      "dB3 : (1, 1)\n",
      "\n",
      "dZ2 : (200, 209)\n",
      "dW2 : (200, 100)\n",
      "dB2 : (200, 1)\n",
      "\n",
      "dZ1 : (100, 209)\n",
      "dW1 : (100, 12288)\n",
      "dB1 : (100, 1)\n",
      "\n"
     ]
    }
   ],
   "source": [
    "for label, values in grad.items():\n",
    "    print(f\"{label} : {values.shape}\")\n",
    "    print() if label.startswith(\"dB\") else \"\""
   ]
  },
  {
   "cell_type": "markdown",
   "id": "b19133ed-a1b4-4d1a-815a-0fa481029916",
   "metadata": {},
   "source": [
    "---\n",
    "# Update Parameters\n",
    "\n",
    "![Update_Params](update_params.png)"
   ]
  },
  {
   "cell_type": "code",
   "execution_count": 23,
   "id": "2c329f43-0452-456c-8f1d-7cb22daef349",
   "metadata": {},
   "outputs": [],
   "source": [
    "def update_parameters(params, gradients, alpha):\n",
    "    Ls = len(params) // 2\n",
    "    \n",
    "    for l in range(1, Ls + 1):\n",
    "        params[\"w\" + str(l)] = params[\"w\" + str(l)] - alpha * gradients[\"dW\" + str(l)]\n",
    "        params[\"b\" + str(l)] = params[\"b\" + str(l)] - alpha * gradients[\"dB\" + str(l)]\n",
    "\n",
    "    return params"
   ]
  },
  {
   "cell_type": "markdown",
   "id": "99955725-2afb-44bc-9926-8692b9b28585",
   "metadata": {},
   "source": [
    "---\n",
    "# Model\n",
    "\n",
    "#### We need to initialize parameters once, and after that, we will run the following in a loop:\n",
    "- **forward_prop(x, parameters)**\n",
    "- **cost_function(aL, y)**\n",
    "- **backward_prop(x, y, parameters, forward_cache)**\n",
    "- **parameters = update_parameters(parameters, gradients, learning_rate)**\n",
    "\n",
    "### Return :\n",
    "- **parameters, which will be our trained parameters**"
   ]
  },
  {
   "cell_type": "code",
   "execution_count": 82,
   "id": "628e65be-735e-4a03-adc3-cb8ddf032567",
   "metadata": {},
   "outputs": [],
   "source": [
    "def accuracy(X, Y, params, activation='relu'):\n",
    "    predictions, _ = forward_propagation(X, params, activation)\n",
    "\n",
    "    if Y.shape[0] == 1:\n",
    "        predictions = np.array(predictions > 0.5, dtype='float')\n",
    "    else:\n",
    "        Y = np.argmax(Y, axis=0)\n",
    "        predictions = np.argmax(predictions, axis=0)\n",
    "\n",
    "    return np.round(np.sum(Y == predictions) / Y.shape[1], 2)"
   ]
  },
  {
   "cell_type": "code",
   "execution_count": 117,
   "id": "fa97527a-9895-4fc0-a76d-eefd93957cd9",
   "metadata": {},
   "outputs": [],
   "source": [
    "def model(X, Y, layer_dims, alpha, activation='relu', iterations=100):\n",
    "    params = initialize_params(layer_dims)\n",
    "    cost_history = []\n",
    "    \n",
    "    for i in range(0, iterations):\n",
    "        aL, cache = forward_propagation(X, params, activation)\n",
    "        cost = compute_cost(aL, Y)\n",
    "        gradients = backward_propagation(aL, Y, params, cache, activation)\n",
    "        params = update_parameters(params, gradients, alpha)\n",
    "        \n",
    "        cost_history.append(cost)\n",
    "        \n",
    "        if i % (iterations / 10) == 0:\n",
    "            print(f\"\\n{i} iterations,\\t Cost : {cost:.4f},\\t Training accuracy : {(accuracy(X, Y, params, activation) * 100):.2f} %,\\t Test accuracy : {(accuracy(x_test, y_test, params, activation) * 100):.2f} %\")\n",
    "\n",
    "        if i % ((iterations / 10) / 10) == 0:\n",
    "            print(\"===========\", end='')\n",
    "    return (params, cost_history)"
   ]
  },
  {
   "cell_type": "code",
   "execution_count": 119,
   "id": "7fdbce71-acf0-4d98-a76b-859416cfaafd",
   "metadata": {},
   "outputs": [
    {
     "name": "stdout",
     "output_type": "stream",
     "text": [
      "\n",
      "0 iterations,\t Cost : 1.3876,\t Training accuracy : 38.00 %,\t Test accuracy : 54.00 %\n",
      "========================================================================================\n",
      "100 iterations,\t Cost : 0.5908,\t Training accuracy : 70.00 %,\t Test accuracy : 46.00 %\n",
      "========================================================================================\n",
      "200 iterations,\t Cost : 0.5396,\t Training accuracy : 72.00 %,\t Test accuracy : 46.00 %\n",
      "========================================================================================\n",
      "300 iterations,\t Cost : 0.4965,\t Training accuracy : 76.00 %,\t Test accuracy : 44.00 %\n",
      "========================================================================================\n",
      "400 iterations,\t Cost : 0.4626,\t Training accuracy : 77.00 %,\t Test accuracy : 38.00 %\n",
      "========================================================================================\n",
      "500 iterations,\t Cost : 0.4353,\t Training accuracy : 80.00 %,\t Test accuracy : 42.00 %\n",
      "========================================================================================\n",
      "600 iterations,\t Cost : 0.4112,\t Training accuracy : 83.00 %,\t Test accuracy : 42.00 %\n",
      "========================================================================================\n",
      "700 iterations,\t Cost : 0.3896,\t Training accuracy : 84.00 %,\t Test accuracy : 42.00 %\n",
      "========================================================================================\n",
      "800 iterations,\t Cost : 0.3694,\t Training accuracy : 86.00 %,\t Test accuracy : 40.00 %\n",
      "========================================================================================\n",
      "900 iterations,\t Cost : 0.3467,\t Training accuracy : 87.00 %,\t Test accuracy : 40.00 %\n",
      "========================================================================================"
     ]
    }
   ],
   "source": [
    "layer_dimentions = [x_train.shape[0], 20, 10, 5, y_train.shape[0]]\n",
    "learning_rate = 0.0075\n",
    "iterations = 1000\n",
    "activation_method = 'tenh'\n",
    "\n",
    "params, cost_history = model(\n",
    "    X = x_train,\n",
    "    Y = y_train,\n",
    "    layer_dims = layer_dimentions,\n",
    "    alpha = learning_rate,\n",
    "    activation = activation_method,\n",
    "    iterations = iterations\n",
    ")"
   ]
  },
  {
   "cell_type": "code",
   "execution_count": 120,
   "id": "8c3411e1-0584-422c-995d-125e9e5c69e1",
   "metadata": {},
   "outputs": [
    {
     "data": {
      "image/png": "[encoded data removed]",
      "text/plain": [
       "<Figure size 1000x600 with 1 Axes>"
      ]
     },
     "metadata": {},
     "output_type": "display_data"
    }
   ],
   "source": [
    "cost_history = np.array(cost_history)\n",
    "min_cost, max_cost = np.nanmin(cost_history), np.nanmax(cost_history)\n",
    "min_idx, max_idx = np.where(cost_history == min_cost)[0][0], np.where(cost_history == max_cost)[0][0]\n",
    "\n",
    "# Plotting\n",
    "plt.figure(figsize=(10, 6))\n",
    "plt.plot(range(len(cost_history)), cost_history, label=\"Cost\")\n",
    "\n",
    "# Plot points\n",
    "plt.scatter(min_idx, min_cost, color='lime', s=100, edgecolor='black', zorder=3)\n",
    "plt.scatter(max_idx, max_cost, color='red', s=100, edgecolor='black', zorder=3)\n",
    "\n",
    "# Fixed smart label positioning\n",
    "def smart_label_pos(x, y, y_min, y_max):\n",
    "    offset = (y_max - y_min) * 0.05  # 5% of plot height\n",
    "    if y > (y_min + y_max)/2:  # Upper half\n",
    "        return (x, y - offset)  # Place below\n",
    "    else:\n",
    "        return (x, y + offset)  # Place above\n",
    "\n",
    "# Get y-axis limits\n",
    "y_min, y_max = plt.ylim()\n",
    "label_min_pos = smart_label_pos(min_idx, min_cost, y_min, y_max)\n",
    "label_max_pos = smart_label_pos(max_idx, max_cost, y_min, y_max)\n",
    "\n",
    "# Add labels\n",
    "plt.text(*label_min_pos, f'{min_cost:.4f}', \n",
    "         ha='left', va='center', color='green', fontsize=10,\n",
    "         bbox=dict(facecolor='white', alpha=0.8, edgecolor='none'))\n",
    "\n",
    "plt.text(*label_max_pos, f'{max_cost:.4f}', \n",
    "         ha='left', va='center', color='red', fontsize=10,\n",
    "         bbox=dict(facecolor='white', alpha=0.8, edgecolor='none'))\n",
    "\n",
    "# Styling\n",
    "plt.xlabel(\"Iteration\")\n",
    "plt.ylabel(\"Cost\")\n",
    "plt.title(\"Cost Optimization Progress\")\n",
    "plt.grid(True, alpha=0.3)\n",
    "plt.tight_layout()\n",
    "plt.show()"
   ]
  },
  {
   "cell_type": "markdown",
   "id": "bd1bfb98-be10-4474-bd01-0c1319c04e96",
   "metadata": {},
   "source": [
    "---\n",
    "# ReLu\n",
    "- **At `1000` iterations with `0.0075` learning rate. cost is : `0.2963`**\n",
    "- **At `1000` iterations with `0.02` learning rate. cost is : `0.0260`**\n",
    "\n",
    "# tanh\n",
    "- **At `1000` iterations with `0.0075` learning rate. cost is : `0.3520`**\n",
    "- **At `1000` iterations with `0.02` learning rate. cost is : `0.1533`**"
   ]
  },
  {
   "cell_type": "code",
   "execution_count": null,
   "id": "61a37c59-2730-470f-832a-b1911840ee86",
   "metadata": {},
   "outputs": [],
   "source": []
  }
 ],
 "metadata": {
  "kernelspec": {
   "display_name": "Python 3 (ipykernel)",
   "language": "python",
   "name": "python3"
  },
  "language_info": {
   "codemirror_mode": {
    "name": "ipython",
    "version": 3
   },
   "file_extension": ".py",
   "mimetype": "text/x-python",
   "name": "python",
   "nbconvert_exporter": "python",
   "pygments_lexer": "ipython3",
   "version": "3.13.3"
  }
 },
 "nbformat": 4,
 "nbformat_minor": 5
}
