{
 "cells": [
  {
   "cell_type": "code",
   "execution_count": 1,
   "id": "ddbed28e-c0ce-4061-92d6-d08a0f0c54c0",
   "metadata": {},
   "outputs": [],
   "source": [
    "import time"
   ]
  },
  {
   "cell_type": "code",
   "execution_count": 2,
   "id": "c3de51a1-21cd-41dc-8f79-2eb6faa688d4",
   "metadata": {},
   "outputs": [],
   "source": [
    "def fibonachi(n):\n",
    "    if n == 1 or n == 0:\n",
    "        return 1\n",
    "    else:\n",
    "        return fibonachi(n - 1) + fibonachi(n - 2)"
   ]
  },
  {
   "cell_type": "code",
   "execution_count": 6,
   "id": "8cf2ee68-1b09-45a5-bac3-9f424226bc07",
   "metadata": {},
   "outputs": [
    {
     "name": "stdout",
     "output_type": "stream",
     "text": [
      "49.478397369384766\n"
     ]
    }
   ],
   "source": [
    "start = time.time()\n",
    "fibonachi(40)\n",
    "print(time.time() - start)"
   ]
  },
  {
   "cell_type": "code",
   "execution_count": 7,
   "id": "16d8b18d-b7b2-4167-95cb-c3df621afe42",
   "metadata": {},
   "outputs": [],
   "source": [
    "def fib_v2(n, d):\n",
    "    if n in d:\n",
    "        return d[n]\n",
    "    else:\n",
    "        d[n] = fib_v2(n-1, d) + fib_v2(n-2, d)\n",
    "        return d[n]"
   ]
  },
  {
   "cell_type": "code",
   "execution_count": 10,
   "id": "b21e9627-3c90-4db7-bb3d-0d8e25c63602",
   "metadata": {},
   "outputs": [
    {
     "name": "stdout",
     "output_type": "stream",
     "text": [
      "0.00011205673217773438\n"
     ]
    }
   ],
   "source": [
    "d = {0:1, 1:1}\n",
    "start = time.time()\n",
    "fib_v2(100, d)\n",
    "print(time.time() - start)"
   ]
  },
  {
   "cell_type": "code",
   "execution_count": null,
   "id": "9548a94f-c574-47db-8c8a-a6628094dee0",
   "metadata": {},
   "outputs": [],
   "source": []
  }
 ],
 "metadata": {
  "kernelspec": {
   "display_name": "Python 3 (ipykernel)",
   "language": "python",
   "name": "python3"
  },
  "language_info": {
   "codemirror_mode": {
    "name": "ipython",
    "version": 3
   },
   "file_extension": ".py",
   "mimetype": "text/x-python",
   "name": "python",
   "nbconvert_exporter": "python",
   "pygments_lexer": "ipython3",
   "version": "3.13.3"
  }
 },
 "nbformat": 4,
 "nbformat_minor": 5
}
