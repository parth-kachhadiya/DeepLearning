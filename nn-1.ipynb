{
 "cells": [
  {
   "cell_type": "code",
   "execution_count": 1,
   "id": "5bd34f2b-4e6a-4fa6-9e08-def318c214a3",
   "metadata": {},
   "outputs": [],
   "source": [
    "import random\n",
    "import numpy as np\n",
    "import matplotlib.pyplot as plt\n",
    "%matplotlib inline"
   ]
  },
  {
   "cell_type": "code",
   "execution_count": 2,
   "id": "4437aa8a-b63a-41d5-b7c3-aa2ba3b8c15c",
   "metadata": {},
   "outputs": [],
   "source": [
    "X_train = np.loadtxt('train_X.csv', delimiter = ',')\n",
    "Y_train = np.loadtxt('train_label.csv', delimiter = ',')\n",
    "\n",
    "X_test = np.loadtxt('test_X.csv', delimiter = ',')\n",
    "Y_test = np.loadtxt('test_label.csv', delimiter = ',')"
   ]
  },
  {
   "cell_type": "code",
   "execution_count": 3,
   "id": "f41a89de-5fb8-4b29-ab6d-84d7c8c5bac6",
   "metadata": {},
   "outputs": [
    {
     "name": "stdout",
     "output_type": "stream",
     "text": [
      "shape of X_train : (1000, 784)\n",
      "shape of Y_train : (1000, 10)\n",
      "shape of X_test : (350, 784)\n",
      "shape of Y_test : (350, 10)\n"
     ]
    }
   ],
   "source": [
    "print(\"shape of X_train :\", X_train.shape) # (number_of_images, pixels_of_an_image)\n",
    "print(\"shape of Y_train :\", Y_train.shape)\n",
    "print(\"shape of X_test :\", X_test.shape)\n",
    "print(\"shape of Y_test :\", Y_test.shape)"
   ]
  },
  {
   "cell_type": "code",
   "execution_count": 4,
   "id": "767e7393-eb0d-4b0e-8ef5-bd2d275883e2",
   "metadata": {},
   "outputs": [],
   "source": [
    "X_train = X_train.T\n",
    "Y_train = Y_train.T\n",
    "X_test = X_test.T\n",
    "Y_test = Y_test.T"
   ]
  },
  {
   "cell_type": "code",
   "execution_count": 5,
   "id": "19589feb-c69c-480e-9109-170e1da4fe4e",
   "metadata": {},
   "outputs": [
    {
     "name": "stdout",
     "output_type": "stream",
     "text": [
      "shape of X_train : (784, 1000)\n",
      "shape of Y_train : (10, 1000)\n",
      "shape of X_test : (784, 350)\n",
      "shape of Y_test : (10, 350)\n"
     ]
    }
   ],
   "source": [
    "print(\"shape of X_train :\", X_train.shape) # (image_size, number_of_images)\n",
    "print(\"shape of Y_train :\", Y_train.shape)\n",
    "print(\"shape of X_test :\", X_test.shape)\n",
    "print(\"shape of Y_test :\", Y_test.shape)"
   ]
  },
  {
   "cell_type": "code",
   "execution_count": 6,
   "id": "20fa637d-4515-40f9-aa68-aa132dd214ec",
   "metadata": {},
   "outputs": [
    {
     "name": "stdout",
     "output_type": "stream",
     "text": [
      "The image is : [8]\n"
     ]
    },
    {
     "data": {
      "image/png": "[encoded data removed]",
      "text/plain": [
       "<Figure size 640x480 with 1 Axes>"
      ]
     },
     "metadata": {},
     "output_type": "display_data"
    }
   ],
   "source": [
    "index_of_random_image = random.randrange(0, X_train.shape[1])\n",
    "image_at_index = X_train[:,index_of_random_image].reshape(28, 28)\n",
    "plt.imshow(image_at_index, cmap='gray')\n",
    "target_index = np.where(Y_train[:,index_of_random_image] == 1)[0]\n",
    "print(f'The image is : {target_index}')"
   ]
  },
  {
   "cell_type": "markdown",
   "id": "cfd7b90c-1f63-4572-a139-09de59f3ce84",
   "metadata": {},
   "source": [
    "# Model\n",
    "\n",
    "## Initialize parameters Randomly\n",
    "$ W_1 = np.random.randn(n_1, n_0) $\n",
    "\n",
    "$ b_1 = np.zeros((n_1, 1))$\n",
    "\n",
    "$ W_2 = np.random.randn(n_2, n_1) $\n",
    "\n",
    "$ b_2 = np.zeros((n_2, 1))$\n",
    "\n",
    "$ \\textcolor{yellow}{\\text{Assuming our NN contains only 1 input layer, 1 Hidden layer and 1 output layer}} $\n",
    "\n",
    "\n",
    "## *Repeat Below Steps for many times : *\n",
    "\n",
    "\n",
    "## Forward Propagation \n",
    "\n",
    "$ Z_1 = W_1 * X + B_1 $\n",
    "\n",
    "$ A_1 = f ( Z_1 ) $  \n",
    "\n",
    "$ Z_2 = W2 * A_1 + B_2 $\n",
    "\n",
    "$ A_2 = Softmax( Z_2 ) $\n",
    "\n",
    "## Softmax \n",
    "\n",
    "$ a_i = \\frac{e^{z_i}}{\\sum_{i=k}^ne^{z_k}}$\n",
    "\n",
    "\n",
    "## Cost Function \n",
    "\n",
    "$Loss = - \\sum_{i=k}^{n}[ y_k*log(a_k) ]$\n",
    "\n",
    "$Cost = - \\frac{1}{m}\\sum_{i=1}^{m}\\sum_{k=1}^{n}[ y_k*log(a_k) ]$\n",
    "\n",
    "\n",
    "\n",
    "## Backward Propagation\n",
    "$dZ_2 = ( A_2 - Y )$\n",
    "\n",
    "$ dW_2 = \\frac{1}{m}. dZ_2 . A_1^T$\n",
    "\n",
    "$ dB_2 = \\frac{1}{m}.sum(dZ_2, 1)$\n",
    "\n",
    "\n",
    "\n",
    "$dZ_1 = W_2^T . dZ_2 * f_1^|(Z_1) $\n",
    "\n",
    "$dW_1 = \\frac{1}{m}.dZ_1.X^T$\n",
    "\n",
    "$dB_1 = \\frac{1}{m}.sum(dZ_1, 1)$\n",
    "\n",
    "\n",
    "## Updating Parameters\n",
    "\n",
    "$ W_2 = W_2 -  \\alpha * \\frac{\\partial Cost }{\\partial W_2}$ \n",
    "\n",
    "$ B_2 = B_2 -  \\alpha * \\frac{\\partial Cost }{\\partial B_2}$ \n",
    "\n",
    "$ W_1 = W_1 -  \\alpha * \\frac{\\partial Cost }{\\partial W_1}$ \n",
    "\n",
    "$ B_1 = B_1 -  \\alpha * \\frac{\\partial Cost }{\\partial B_1}$ \n"
   ]
  },
  {
   "cell_type": "markdown",
   "id": "0a121ec3-861b-43b9-82c7-19e0fd0c5481",
   "metadata": {},
   "source": [
    "---\n",
    "## Activation Functions\n",
    "\n",
    "### ReLU Activation\n",
    "$$\n",
    "a_i = \n",
    "\\begin{cases}\n",
    "z_i, & z_i > 0,\\\\\n",
    "0,   & z_i \\le 0.\n",
    "\\end{cases}\n",
    "$$\n",
    "\n",
    "### Softmax Activation\n",
    "$$\n",
    "a_i =\n",
    "\\begin{cases}\n",
    "\\frac{e^{z_i}}{\\sum_{k=1}^{n} e^{z_k}}, & \\text{for } i = 1, 2, \\dots, n\n",
    "\\end{cases}\n",
    "$$\n"
   ]
  },
  {
   "cell_type": "code",
   "execution_count": 7,
   "id": "3a016199-495a-43cf-8bb7-ea5ac1e4522f",
   "metadata": {},
   "outputs": [],
   "source": [
    "def tanh(x):\n",
    "    return np.tanh(x)\n",
    "\n",
    "def relu(x):\n",
    "    return np.maximum(x, 0)\n",
    "\n",
    "def softmax(x):\n",
    "    expX = np.exp(x)\n",
    "    return expX/np.sum(expX, axis = 0)"
   ]
  },
  {
   "cell_type": "markdown",
   "id": "6fa9cddc-8ded-47e9-a8d2-dd5c725e2704",
   "metadata": {},
   "source": [
    "---\n",
    "## Derivatives of Activation functions"
   ]
  },
  {
   "cell_type": "code",
   "execution_count": 8,
   "id": "dfd97f8d-c9f6-4973-9ba1-457888e8620f",
   "metadata": {},
   "outputs": [],
   "source": [
    "def derivative_tanh(x):\n",
    "    return (1 - np.power(np.tanh(x), 2))\n",
    "\n",
    "def derivative_relu(x):\n",
    "    return np.array(x > 0, dtype = np.float32)"
   ]
  },
  {
   "cell_type": "markdown",
   "id": "eaac49f9-7dcf-44dc-82ce-f04abe5b544e",
   "metadata": {},
   "source": [
    "---\n",
    "## Initializing Parameters\n",
    "\n",
    "$ W_1 = np.random.randn(n_1, n_0) $\n",
    "\n",
    "$ b_1 = np.zeros((n_1, 1))$\n",
    "\n",
    "$ W_2 = np.random.randn(n_2, n_1) $\n",
    "\n",
    "$ b_2 = np.zeros((n_2, 1))$"
   ]
  },
  {
   "cell_type": "code",
   "execution_count": 9,
   "id": "19707cc6-d3cc-490f-ab37-8b6db90ca0e0",
   "metadata": {},
   "outputs": [],
   "source": [
    "# n_x : Total number of neurons in input layer\n",
    "# n_h : Total number of neurons in hidden layer\n",
    "# n_y : Total number of neurons in output layer\n",
    "\n",
    "def initialize_parameters(n_x, n_h, n_y):\n",
    "    w1 = np.random.randn(n_h, n_x)*0.01\n",
    "    b1 = np.zeros((n_h, 1))\n",
    "    \n",
    "    w2 = np.random.randn(n_y, n_h)*0.01\n",
    "    b2 = np.zeros((n_y, 1))\n",
    "    \n",
    "    parameters = dict(w1=w1, b1=b1, w2=w2, b2=b2)\n",
    "    \n",
    "    return parameters"
   ]
  },
  {
   "cell_type": "markdown",
   "id": "4e7ac143-e2d7-4132-95df-568d812c4641",
   "metadata": {},
   "source": [
    "---\n",
    "## Forward Propogation\n",
    "$ Z_1 = W_1 * X + B_1 $\n",
    "\n",
    "$ A_1 = f ( Z_1 ) $  \n",
    "\n",
    "$ Z_2 = W2 * A_1 + B_2 $\n",
    "\n",
    "$ A_2 = Softmax( Z_2 ) $"
   ]
  },
  {
   "cell_type": "code",
   "execution_count": 20,
   "id": "0a3869fc-b7db-43b6-b78d-fb9a448a4dc5",
   "metadata": {},
   "outputs": [],
   "source": [
    "def forward_propagation(x, parameters):\n",
    "    \n",
    "    w1, b1, w2, b2 = parameters['w1'], parameters['b1'], parameters['w2'], parameters['b2']\n",
    "    \n",
    "    z1 = np.dot(w1, x) + b1\n",
    "    # a1 = relu(z1)\n",
    "    a1 = tanh(z1)\n",
    "    \n",
    "    z2 = np.dot(w2, a1) + b2\n",
    "    a2 = softmax(z2)\n",
    "    \n",
    "    forward_cache = dict(z1=z1, a1=a1, z2=z2, a2=a2)\n",
    "\n",
    "    return forward_cache"
   ]
  },
  {
   "cell_type": "markdown",
   "id": "1f4b82ca-3042-4bd0-a4bd-66e1cefc7c47",
   "metadata": {},
   "source": [
    "---\n",
    "## Cost Function\n",
    "$Cost = - \\frac{1}{m}\\sum_{i=1}^{m}\\sum_{k=1}^{n}[ y_k*log(a_k) ]$"
   ]
  },
  {
   "cell_type": "code",
   "execution_count": 11,
   "id": "041bca85-48e0-4e3d-a790-15ef257b5007",
   "metadata": {},
   "outputs": [],
   "source": [
    "def cost_function(a2, y):\n",
    "    m = y.shape[1]\n",
    "    cost = -(1 / m) * np.sum(y * np.log(a2))\n",
    "    return cost"
   ]
  },
  {
   "cell_type": "markdown",
   "id": "a1859bad-a3db-4503-bc12-b96945a67655",
   "metadata": {},
   "source": [
    "---\n",
    "## Back Propogation\n",
    "$dZ_2 = ( A_2 - Y )$\n",
    "\n",
    "$ dW_2 = \\frac{1}{m}. dZ_2 . A_1^T$\n",
    "\n",
    "$ dB_2 = \\frac{1}{m}.sum(dZ_2, 1)$\n",
    "\n",
    "\n",
    "\n",
    "$dZ_1 = W_2^T . dZ_2 * f_1^|(Z_1) $\n",
    "\n",
    "$dW_1 = \\frac{1}{m}.dZ_1.X^T$\n",
    "\n",
    "$dB_1 = \\frac{1}{m}.sum(dZ_1, 1)$"
   ]
  },
  {
   "cell_type": "code",
   "execution_count": 21,
   "id": "803f5607-fd91-43ef-9246-ca86a31ab090",
   "metadata": {},
   "outputs": [],
   "source": [
    "def backward_prop(x, y, parameters, forward_cache):\n",
    "    w1, b1, w2, b2 = parameters['w1'], parameters['b1'], parameters['w2'], parameters['b2']\n",
    "    a1, a2 = forward_cache['a1'], forward_cache['a2']\n",
    "\n",
    "    m = x.shape[1]\n",
    "    \n",
    "    dz2 = (a2 - y)\n",
    "    dw2 = (1/m)*np.dot(dz2, a1.T)\n",
    "    db2 = (1/m)*np.sum(dz2, axis = 1, keepdims = True) # keepdims = 1 : (2,) -> (2, 1) forces code to show complete dimentions\n",
    "    \n",
    "    # dz1 = (1/m)*np.dot(w2.T, dz2)*derivative_relu(a1)\n",
    "    dz1 = (1/m)*np.dot(w2.T, dz2)*derivative_tanh(a1)\n",
    "    dw1 = (1/m)*np.dot(dz1, x.T)\n",
    "    db1 = (1/m)*np.sum(dz1, axis = 1, keepdims = True)\n",
    "    \n",
    "    gradients = dict(dw1=dw1, db1=db1, dw2=dw2, db2=db2)\n",
    "    \n",
    "    return gradients"
   ]
  },
  {
   "cell_type": "markdown",
   "id": "7e4e9b0d-a99f-4d0a-b4a6-505b8356902a",
   "metadata": {},
   "source": [
    "---\n",
    "## Updating Parameters\n",
    "\n",
    "$ W_2 = W_2 -  \\alpha * \\frac{\\partial Cost }{\\partial W_2}$ \n",
    "\n",
    "$ B_2 = B_2 -  \\alpha * \\frac{\\partial Cost }{\\partial B_2}$ \n",
    "\n",
    "$ W_1 = W_1 -  \\alpha * \\frac{\\partial Cost }{\\partial W_1}$ \n",
    "\n",
    "$ B_1 = B_1 -  \\alpha * \\frac{\\partial Cost }{\\partial B_1}$ "
   ]
  },
  {
   "cell_type": "code",
   "execution_count": 13,
   "id": "b3268275-79de-4c19-ba4c-2d4fa82f1924",
   "metadata": {},
   "outputs": [],
   "source": [
    "def update_parameters(parameters, gradients, alpha):\n",
    "    w1, b1, w2, b2 = parameters['w1'], parameters['b1'], parameters['w2'], parameters['b2']\n",
    "    dw1, db1, dw2, db2 = gradients['dw1'], gradients['db1'], gradients['dw2'], gradients['db2']\n",
    "\n",
    "    w1 = w1 - alpha * dw1\n",
    "    b1 = b1 - alpha * db1\n",
    "    w2 = w2 - alpha * dw2\n",
    "    b2 = b2 - alpha * db2\n",
    "\n",
    "    params = dict(w1=w1, b1=b1, w2=w2, b2=b2)\n",
    "\n",
    "    return params"
   ]
  },
  {
   "cell_type": "markdown",
   "id": "615152b0-d830-4ce9-82ba-9f937517e1fe",
   "metadata": {},
   "source": [
    "---\n",
    "# Final Model"
   ]
  },
  {
   "cell_type": "code",
   "execution_count": 22,
   "id": "ba62fa24-a9b5-437c-9bdd-f4461e54f551",
   "metadata": {},
   "outputs": [],
   "source": [
    "def model(x, y, n_h, alpha, iterations):\n",
    "    n_x = x.shape[0]\n",
    "    n_y = y.shape[0]\n",
    "\n",
    "    cost_list = []\n",
    "    \n",
    "    # Step - 1 : Initialize Parameters\n",
    "    params = initialize_parameters(n_x, n_h, n_y)\n",
    "\n",
    "    # Step - 2 : Model Training\n",
    "    for i in range(iterations):\n",
    "        \n",
    "        forward_cache = forward_propagation(x, params)\n",
    "        cost = cost_function(forward_cache['a2'], y)\n",
    "        gradients = backward_prop(x, y, params, forward_cache)\n",
    "        params = update_parameters(params, gradients, alpha)\n",
    "        \n",
    "        cost_list.append(cost) \n",
    "        \n",
    "        if i % (iterations / 10) == 0:\n",
    "            print(f\"Cost after {i}th iterations is : {cost}\")\n",
    "            \n",
    "    return (params, cost_list)"
   ]
  },
  {
   "cell_type": "code",
   "execution_count": 23,
   "id": "e8825c30-c50e-4626-9587-8fffb0cf3e4e",
   "metadata": {},
   "outputs": [
    {
     "name": "stdout",
     "output_type": "stream",
     "text": [
      "Cost after 0th iterations is : 2.2892739697761617\n",
      "Cost after 10th iterations is : 1.183440693049563\n",
      "Cost after 20th iterations is : 0.833899453111816\n",
      "Cost after 30th iterations is : 0.6665758223081308\n",
      "Cost after 40th iterations is : 0.5658074910262206\n",
      "Cost after 50th iterations is : 0.49664504684484756\n",
      "Cost after 60th iterations is : 0.44518480860319365\n",
      "Cost after 70th iterations is : 0.4047860229626039\n",
      "Cost after 80th iterations is : 0.37185213043522036\n",
      "Cost after 90th iterations is : 0.34425052786884847\n"
     ]
    }
   ],
   "source": [
    "iterations = 100\n",
    "n_h = 1000\n",
    "learning_rate = 0.02\n",
    "\n",
    "params, cost_list = model(\n",
    "    x = X_train,\n",
    "    y = Y_train,\n",
    "    n_h = n_h,\n",
    "    alpha = learning_rate,\n",
    "    iterations = iterations\n",
    ")"
   ]
  },
  {
   "cell_type": "code",
   "execution_count": null,
   "id": "d95da48d-76fd-468f-ac90-84cb8e147d6a",
   "metadata": {},
   "outputs": [],
   "source": [
    "plt.plot(np.arange(0, iterations), cost_list)\n",
    "plt.show()"
   ]
  },
  {
   "cell_type": "code",
   "execution_count": null,
   "id": "41606af7-9847-49cc-8552-034f542c114f",
   "metadata": {},
   "outputs": [],
   "source": [
    "def accuracy(inp, labels, params):\n",
    "    forward_cache = forward_propagation(inp, params)\n",
    "    a_out = forward_cache['a2']\n",
    "    a_out = np.argmax(a_out, 0)\n",
    "    y_out = np.argmax(labels, 0)\n",
    "    a_out == y_out\n",
    "    \n",
    "    accuracy = np.mean(a_out == y_out) * 100\n",
    "    return accuracy"
   ]
  },
  {
   "cell_type": "code",
   "execution_count": null,
   "id": "d15ae2a2-a275-4fe3-b535-9b583e355495",
   "metadata": {},
   "outputs": [],
   "source": [
    "print(f\"Accuracy on training dataset : {accuracy(X_train, Y_train, params):.2f}%\")\n",
    "print(f\"Accuracy on testing dataset : {accuracy(X_test, Y_test, params):.2f}%\")"
   ]
  },
  {
   "cell_type": "markdown",
   "id": "3dad82e1-5a54-4076-bde6-748cea4d8556",
   "metadata": {},
   "source": [
    "# Analysis\n",
    "\n",
    "## ReLU\n",
    "- **At `100` iterations and `0.002` alpha,  Training Accuracy : [99.70], Test Accuracy : [84.57]**\n",
    "\n",
    "## tanh\n",
    "- **At `100` iterations and `0.002` alpha,  Training Accuracy : [78.60]%, Test Accuracy : [74.29]%**\n",
    "- **At `100` iterations and `0.02` alpha : Training Accuracy : [95.60]%, Test Accuracy : [85.71]%**\n",
    "- **At `200` iterations and `0.02` alpha : Training Accuracy : [98.60]%, Test Accuracy : [86.86]%**\n",
    "- **At `300` iterations and `0.03` alpha : Training Accuracy : [99.70]%, Test Accuracy : [87.43]%**\n",
    "- **At `400` iterations and `0.03` alpha : Training Accuracy : [100.00]%, Test Accuracy : [88.00]%**\n",
    "- **At `500` iterations and `0.03` alpha : Training Accuracy : [100.00]%, Test Accuracy : [86.57]%**"
   ]
  },
  {
   "cell_type": "code",
   "execution_count": null,
   "id": "4211d182-f9ea-4e08-9703-55a5dc9d5c7d",
   "metadata": {},
   "outputs": [],
   "source": []
  }
 ],
 "metadata": {
  "kernelspec": {
   "display_name": "Python 3 (ipykernel)",
   "language": "python",
   "name": "python3"
  },
  "language_info": {
   "codemirror_mode": {
    "name": "ipython",
    "version": 3
   },
   "file_extension": ".py",
   "mimetype": "text/x-python",
   "name": "python",
   "nbconvert_exporter": "python",
   "pygments_lexer": "ipython3",
   "version": "3.13.3"
  }
 },
 "nbformat": 4,
 "nbformat_minor": 5
}
