{
 "cells": [
  {
   "cell_type": "code",
   "execution_count": 70,
   "id": "6f948531-78af-4b85-9314-a28d3e29d2a5",
   "metadata": {},
   "outputs": [],
   "source": [
    "import numpy as np\n",
    "import pandas as pd"
   ]
  },
  {
   "cell_type": "code",
   "execution_count": 71,
   "id": "8c286e9a-13fb-4e65-9586-fcf2525fd73a",
   "metadata": {},
   "outputs": [],
   "source": [
    "df = pd.DataFrame([[8, 8, 4], [7, 9, 5], [6, 10, 6], [5, 12, 7]], columns=['cgpa', 'profile_score', 'lpa'])"
   ]
  },
  {
   "cell_type": "code",
   "execution_count": 72,
   "id": "a5d2ce65-d369-4ef1-9d11-ce57c5c0f07e",
   "metadata": {},
   "outputs": [
    {
     "data": {
      "text/html": [
       "<div>\n",
       "<style scoped>\n",
       "    .dataframe tbody tr th:only-of-type {\n",
       "        vertical-align: middle;\n",
       "    }\n",
       "\n",
       "    .dataframe tbody tr th {\n",
       "        vertical-align: top;\n",
       "    }\n",
       "\n",
       "    .dataframe thead th {\n",
       "        text-align: right;\n",
       "    }\n",
       "</style>\n",
       "<table border=\"1\" class=\"dataframe\">\n",
       "  <thead>\n",
       "    <tr style=\"text-align: right;\">\n",
       "      <th></th>\n",
       "      <th>cgpa</th>\n",
       "      <th>profile_score</th>\n",
       "      <th>lpa</th>\n",
       "    </tr>\n",
       "  </thead>\n",
       "  <tbody>\n",
       "    <tr>\n",
       "      <th>0</th>\n",
       "      <td>8</td>\n",
       "      <td>8</td>\n",
       "      <td>4</td>\n",
       "    </tr>\n",
       "    <tr>\n",
       "      <th>1</th>\n",
       "      <td>7</td>\n",
       "      <td>9</td>\n",
       "      <td>5</td>\n",
       "    </tr>\n",
       "    <tr>\n",
       "      <th>2</th>\n",
       "      <td>6</td>\n",
       "      <td>10</td>\n",
       "      <td>6</td>\n",
       "    </tr>\n",
       "    <tr>\n",
       "      <th>3</th>\n",
       "      <td>5</td>\n",
       "      <td>12</td>\n",
       "      <td>7</td>\n",
       "    </tr>\n",
       "  </tbody>\n",
       "</table>\n",
       "</div>"
      ],
      "text/plain": [
       "   cgpa  profile_score  lpa\n",
       "0     8              8    4\n",
       "1     7              9    5\n",
       "2     6             10    6\n",
       "3     5             12    7"
      ]
     },
     "execution_count": 72,
     "metadata": {},
     "output_type": "execute_result"
    }
   ],
   "source": [
    "df"
   ]
  },
  {
   "cell_type": "code",
   "execution_count": 73,
   "id": "3739d18b-383c-4378-8065-af3df7a740e8",
   "metadata": {},
   "outputs": [],
   "source": [
    "def initialize_params(layer_dim):\n",
    "    np.random.seed(3)  \n",
    "    parameters = {}\n",
    "    L = len(layer_dim)\n",
    "\n",
    "    for l in range(1, L):\n",
    "        parameters['W' + str(l)] = np.ones((layer_dim[l-1], layer_dim[l])) * 0.1\n",
    "        parameters['b' + str(l)] = np.zeros((layer_dim[l], 1))\n",
    "\n",
    "    return parameters"
   ]
  },
  {
   "cell_type": "code",
   "execution_count": 74,
   "id": "f60ae3fd-fd22-4179-8f77-5b6ddbfd98f8",
   "metadata": {},
   "outputs": [
    {
     "data": {
      "text/plain": [
       "{'W1': array([[0.1, 0.1],\n",
       "        [0.1, 0.1]]),\n",
       " 'b1': array([[0.],\n",
       "        [0.]]),\n",
       " 'W2': array([[0.1],\n",
       "        [0.1]]),\n",
       " 'b2': array([[0.]])}"
      ]
     },
     "execution_count": 74,
     "metadata": {},
     "output_type": "execute_result"
    }
   ],
   "source": [
    "initialize_params([2, 2, 1])"
   ]
  },
  {
   "cell_type": "code",
   "execution_count": 75,
   "id": "a2f07ddf-cc61-4409-978d-7c7ef54a1db8",
   "metadata": {},
   "outputs": [],
   "source": [
    "# Calculate output of any given neuron\n",
    "def forward(A, W, b):\n",
    "    Z = np.dot(W.T, A) + b\n",
    "    return Z"
   ]
  },
  {
   "cell_type": "code",
   "execution_count": 76,
   "id": "90641dab-f499-4615-ad72-86fcca771b5d",
   "metadata": {},
   "outputs": [],
   "source": [
    "def forward_propagation(X, params):\n",
    "    A = X\n",
    "    L = len(params) // 2\n",
    "\n",
    "    for l in range(1, L + 1):\n",
    "        A_prev = A\n",
    "        Wl = params['W' + str(l)]\n",
    "        bl = params['b' + str(l)]\n",
    "\n",
    "        print(f\"A{str(l-1)} : {A_prev}\")\n",
    "        print(f\"W{str(l)} : {Wl}\")\n",
    "        print(f\"b{str(l)} : {bl}\")\n",
    "        print(\"--\" * 25)\n",
    "\n",
    "        A = forward(A_prev, Wl, bl)\n",
    "        print(f\"A{str(l)} : {A}\")\n",
    "        print(\"**\" * 25)\n",
    "\n",
    "    return A, A_prev"
   ]
  },
  {
   "cell_type": "markdown",
   "id": "dff88678-558a-491b-80e4-97e6fa3816e2",
   "metadata": {},
   "source": [
    "---\n",
    "### Selecting first row "
   ]
  },
  {
   "cell_type": "code",
   "execution_count": 77,
   "id": "ac6dc4ed-4a9c-4178-a222-0ab3d63b56d3",
   "metadata": {},
   "outputs": [],
   "source": [
    "X = df.iloc[0,:-1].values.reshape(2, 1)\n",
    "Y = df.iloc[0,-1]"
   ]
  },
  {
   "cell_type": "code",
   "execution_count": 78,
   "id": "960e5025-605c-4e71-984f-4e592a0f36a7",
   "metadata": {},
   "outputs": [],
   "source": [
    "network_structure = [2, 2, 1]\n",
    "parameters = initialize_params(network_structure)"
   ]
  },
  {
   "cell_type": "code",
   "execution_count": 79,
   "id": "22758958-02e1-46c2-98ab-8cf1fa7bf098",
   "metadata": {},
   "outputs": [
    {
     "name": "stdout",
     "output_type": "stream",
     "text": [
      "A0 : [[8]\n",
      " [8]]\n",
      "W1 : [[0.1 0.1]\n",
      " [0.1 0.1]]\n",
      "b1 : [[0.]\n",
      " [0.]]\n",
      "--------------------------------------------------\n",
      "A1 : [[1.6]\n",
      " [1.6]]\n",
      "**************************************************\n",
      "A1 : [[1.6]\n",
      " [1.6]]\n",
      "W2 : [[0.1]\n",
      " [0.1]]\n",
      "b2 : [[0.]]\n",
      "--------------------------------------------------\n",
      "A2 : [[0.32]]\n",
      "**************************************************\n",
      "\n",
      "\n",
      "-----------------------------------------------------------------------------------------\n",
      "|\tHere A0 is [8, 8](cgpa, profile_score), A1 is [O11, O12], A2 is [O21](y_hat)\t|\n",
      "-----------------------------------------------------------------------------------------\n",
      "\n",
      "\n"
     ]
    }
   ],
   "source": [
    "y_hat, A_previous = forward_propagation(X, parameters)\n",
    "print(f\"\\n\\n-----------------------------------------------------------------------------------------\")\n",
    "print(f\"|\\tHere A0 is [8, 8](cgpa, profile_score), A1 is [O11, O12], A2 is [O21](y_hat)\\t|\")\n",
    "print(f\"-----------------------------------------------------------------------------------------\\n\\n\")"
   ]
  },
  {
   "cell_type": "code",
   "execution_count": 80,
   "id": "f41363e4-9786-4fea-8388-e068037dd97c",
   "metadata": {},
   "outputs": [],
   "source": [
    "y_hat = y_hat[0][0]\n",
    "\n",
    "loss = (Y - y_hat) ** 2"
   ]
  },
  {
   "cell_type": "code",
   "execution_count": 81,
   "id": "1bb44a70-1c99-4109-a05b-a9189f373250",
   "metadata": {},
   "outputs": [
    {
     "data": {
      "text/plain": [
       "np.float64(13.542399999999997)"
      ]
     },
     "execution_count": 81,
     "metadata": {},
     "output_type": "execute_result"
    }
   ],
   "source": [
    "loss"
   ]
  },
  {
   "cell_type": "code",
   "execution_count": 82,
   "id": "7c6b50d0-2bc2-44b8-b480-88db883fe0d1",
   "metadata": {},
   "outputs": [],
   "source": [
    "def update_parameters(params, Y, y_hat, A1, X):\n",
    "    params['W2'][0][0] = params['W2'][0][0] + (0.001 * 2 * (Y - y_hat) * A1[0][0])\n",
    "    params['W2'][1][0] = params['W2'][1][0] + (0.001 * 2 * (Y - y_hat) * A1[1][0])\n",
    "    params['b2'][0][0] = params['W2'][1][0] + (0.001 * 2 * (Y - y_hat))\n",
    "\n",
    "    params['W1'][0][0] = params['W1'][0][0] + (0.001 * 2 * (Y - y_hat) * params['W2'][0][0] * X[0][0])\n",
    "    params['W1'][0][0] = params['W1'][0][1] + (0.001 * 2 * (Y - y_hat) * params['W2'][0][0] * X[1][0])\n",
    "    params['b1'][0][0] = params['b1'][0][0] + (0.001 * 2 * (Y - y_hat) * params['W2'][0][0])\n",
    "\n",
    "    params['W1'][1][0] = params['W1'][1][0] + (0.001 * 2 * (Y - y_hat) * params['W2'][1][0] * X[0][0])\n",
    "    params['W1'][1][1] = params['W1'][1][1] + (0.001 * 2 * (Y - y_hat) * params['W2'][1][0] * X[1][0])\n",
    "    params['b1'][1][0] = params['b1'][1][0] + (0.001 * 2 * (Y - y_hat) * params['W2'][1][0])"
   ]
  },
  {
   "cell_type": "code",
   "execution_count": 83,
   "id": "de197493-c862-4af7-89d0-5c731d961866",
   "metadata": {},
   "outputs": [
    {
     "data": {
      "text/plain": [
       "(np.float64(0.32000000000000006),\n",
       " array([[1.6],\n",
       "        [1.6]]))"
      ]
     },
     "execution_count": 83,
     "metadata": {},
     "output_type": "execute_result"
    }
   ],
   "source": [
    "y_hat, A_previous"
   ]
  },
  {
   "cell_type": "code",
   "execution_count": 84,
   "id": "5e530a54-9a1b-4d89-9717-3219f72c2098",
   "metadata": {},
   "outputs": [],
   "source": [
    "update_parameters(parameters, Y, y_hat, A_previous, X)"
   ]
  },
  {
   "cell_type": "code",
   "execution_count": 85,
   "id": "c4ce234e-e385-4d22-a875-50f4b7e16660",
   "metadata": {},
   "outputs": [
    {
     "data": {
      "text/plain": [
       "{'W1': array([[0.10658137, 0.1       ],\n",
       "        [0.10658137, 0.10658137]]),\n",
       " 'b1': array([[0.00082267],\n",
       "        [0.00082267]]),\n",
       " 'W2': array([[0.111776],\n",
       "        [0.111776]]),\n",
       " 'b2': array([[0.119136]])}"
      ]
     },
     "execution_count": 85,
     "metadata": {},
     "output_type": "execute_result"
    }
   ],
   "source": [
    "parameters"
   ]
  },
  {
   "cell_type": "markdown",
   "id": "a3765ce6-aab0-4531-b12e-dab8c8883ccd",
   "metadata": {},
   "source": [
    "---\n",
    "### Selecting second row"
   ]
  },
  {
   "cell_type": "code",
   "execution_count": 86,
   "id": "d9e3c1f4-13c1-494e-a626-2076ce466adf",
   "metadata": {},
   "outputs": [],
   "source": [
    "X = df.iloc[1,:-1].values.reshape(2, 1)\n",
    "Y = df.iloc[1,-1]"
   ]
  },
  {
   "cell_type": "code",
   "execution_count": 87,
   "id": "6589c668-4a73-4a45-880f-0a08d3b85f02",
   "metadata": {},
   "outputs": [
    {
     "name": "stdout",
     "output_type": "stream",
     "text": [
      "A0 : [[7]\n",
      " [9]]\n",
      "W1 : [[0.10658137 0.1       ]\n",
      " [0.10658137 0.10658137]]\n",
      "b1 : [[0.00082267]\n",
      " [0.00082267]]\n",
      "--------------------------------------------------\n",
      "A1 : [[1.70612461]\n",
      " [1.66005501]]\n",
      "**************************************************\n",
      "A1 : [[1.70612461]\n",
      " [1.66005501]]\n",
      "W2 : [[0.111776]\n",
      " [0.111776]]\n",
      "b2 : [[0.119136]]\n",
      "--------------------------------------------------\n",
      "A2 : [[0.49539409]]\n",
      "**************************************************\n",
      "\n",
      "\n",
      "-----------------------------------------------------------------------------------------\n",
      "|\tHere A0 is [7, 9](cgpa, profile_score), A1 is [O11, O12], A2 is [O21](y_hat)\t|\n",
      "-----------------------------------------------------------------------------------------\n",
      "\n",
      "\n"
     ]
    }
   ],
   "source": [
    "y_hat, A_previous = forward_propagation(X, parameters)\n",
    "y_hat = y_hat[0][0]\n",
    "print(f\"\\n\\n-----------------------------------------------------------------------------------------\")\n",
    "print(f\"|\\tHere A0 is [7, 9](cgpa, profile_score), A1 is [O11, O12], A2 is [O21](y_hat)\\t|\")\n",
    "print(f\"-----------------------------------------------------------------------------------------\\n\\n\")"
   ]
  },
  {
   "cell_type": "code",
   "execution_count": 88,
   "id": "fd2b214f-b554-47ac-ac2c-f49cdb2ad5cb",
   "metadata": {},
   "outputs": [],
   "source": [
    "update_parameters(parameters, Y, y_hat, A_previous, X)"
   ]
  },
  {
   "cell_type": "code",
   "execution_count": 89,
   "id": "d0648719-c14e-4d24-9a92-76dbaefdf116",
   "metadata": {},
   "outputs": [
    {
     "data": {
      "text/plain": [
       "{'W1': array([[0.11030944, 0.1       ],\n",
       "        [0.11457365, 0.11685715]]),\n",
       " 'b1': array([[0.00196816],\n",
       "        [0.00196442]]),\n",
       " 'W2': array([[0.12714684],\n",
       "        [0.12673179]]),\n",
       " 'b2': array([[0.135741]])}"
      ]
     },
     "execution_count": 89,
     "metadata": {},
     "output_type": "execute_result"
    }
   ],
   "source": [
    "parameters"
   ]
  },
  {
   "cell_type": "markdown",
   "id": "f36010a3-96dd-4684-8a2b-068ab713ac04",
   "metadata": {},
   "source": [
    "---\n",
    "### Selecting third row"
   ]
  },
  {
   "cell_type": "code",
   "execution_count": 90,
   "id": "6ae67214-29d7-4412-b614-9a0795d79dff",
   "metadata": {},
   "outputs": [],
   "source": [
    "X = df.iloc[2,:-1].values.reshape(2, 1)\n",
    "Y = df.iloc[2,-1]"
   ]
  },
  {
   "cell_type": "code",
   "execution_count": 91,
   "id": "69b45a56-5fb9-46e2-869c-055b68322e89",
   "metadata": {},
   "outputs": [
    {
     "name": "stdout",
     "output_type": "stream",
     "text": [
      "A0 : [[ 6]\n",
      " [10]]\n",
      "W1 : [[0.11030944 0.1       ]\n",
      " [0.11457365 0.11685715]]\n",
      "b1 : [[0.00196816]\n",
      " [0.00196442]]\n",
      "--------------------------------------------------\n",
      "A1 : [[1.80956123]\n",
      " [1.77053595]]\n",
      "**************************************************\n",
      "A1 : [[1.80956123]\n",
      " [1.77053595]]\n",
      "W2 : [[0.12714684]\n",
      " [0.12673179]]\n",
      "b2 : [[0.135741]]\n",
      "--------------------------------------------------\n",
      "A2 : [[0.59020417]]\n",
      "**************************************************\n",
      "\n",
      "\n",
      "-----------------------------------------------------------------------------------------\n",
      "|\tHere A0 is [7, 9](cgpa, profile_score), A1 is [O11, O12], A2 is [O21](y_hat)\t|\n",
      "-----------------------------------------------------------------------------------------\n",
      "\n",
      "\n"
     ]
    }
   ],
   "source": [
    "y_hat, A_previous = forward_propagation(X, parameters)\n",
    "y_hat = y_hat[0][0]\n",
    "print(f\"\\n\\n-----------------------------------------------------------------------------------------\")\n",
    "print(f\"|\\tHere A0 is [7, 9](cgpa, profile_score), A1 is [O11, O12], A2 is [O21](y_hat)\\t|\")\n",
    "print(f\"-----------------------------------------------------------------------------------------\\n\\n\")"
   ]
  },
  {
   "cell_type": "code",
   "execution_count": 92,
   "id": "09f04376-4e2a-4d96-8ebc-8daee956c014",
   "metadata": {},
   "outputs": [],
   "source": [
    "update_parameters(parameters, Y, y_hat, A_previous, X)"
   ]
  },
  {
   "cell_type": "code",
   "execution_count": 93,
   "id": "d0337ff0-8a4f-4d3d-abeb-2a10ffe68e4b",
   "metadata": {},
   "outputs": [
    {
     "data": {
      "text/plain": [
       "{'W1': array([[0.11587511, 0.1       ],\n",
       "        [0.12404435, 0.13264167]]),\n",
       " 'b1': array([[0.00355567],\n",
       "        [0.00354288]]),\n",
       " 'W2': array([[0.14672555],\n",
       "        [0.14588826]]),\n",
       " 'b2': array([[0.15670785]])}"
      ]
     },
     "execution_count": 93,
     "metadata": {},
     "output_type": "execute_result"
    }
   ],
   "source": [
    "parameters"
   ]
  },
  {
   "cell_type": "markdown",
   "id": "6afddf2b-a961-4101-9b90-9c66a80072d5",
   "metadata": {},
   "source": [
    "---\n",
    "### Selecting fourth row"
   ]
  },
  {
   "cell_type": "code",
   "execution_count": 94,
   "id": "8d487d21-5303-4854-8ff1-2f94939ee76f",
   "metadata": {},
   "outputs": [],
   "source": [
    "X = df.iloc[3,:-1].values.reshape(2, 1)\n",
    "Y = df.iloc[3,-1]"
   ]
  },
  {
   "cell_type": "code",
   "execution_count": 95,
   "id": "58ecb2d7-2b5a-4b71-9d33-88471f81aec6",
   "metadata": {},
   "outputs": [
    {
     "name": "stdout",
     "output_type": "stream",
     "text": [
      "A0 : [[ 5]\n",
      " [12]]\n",
      "W1 : [[0.11587511 0.1       ]\n",
      " [0.12404435 0.13264167]]\n",
      "b1 : [[0.00355567]\n",
      " [0.00354288]]\n",
      "--------------------------------------------------\n",
      "A1 : [[2.07146345]\n",
      " [2.09524288]]\n",
      "**************************************************\n",
      "A1 : [[2.07146345]\n",
      " [2.09524288]]\n",
      "W2 : [[0.14672555]\n",
      " [0.14588826]]\n",
      "b2 : [[0.15670785]]\n",
      "--------------------------------------------------\n",
      "A2 : [[0.76631582]]\n",
      "**************************************************\n",
      "\n",
      "\n",
      "-----------------------------------------------------------------------------------------\n",
      "|\tHere A0 is [7, 9](cgpa, profile_score), A1 is [O11, O12], A2 is [O21](y_hat)\t|\n",
      "-----------------------------------------------------------------------------------------\n",
      "\n",
      "\n"
     ]
    }
   ],
   "source": [
    "y_hat, A_previous = forward_propagation(X, parameters)\n",
    "y_hat = y_hat[0][0]\n",
    "print(f\"\\n\\n-----------------------------------------------------------------------------------------\")\n",
    "print(f\"|\\tHere A0 is [7, 9](cgpa, profile_score), A1 is [O11, O12], A2 is [O21](y_hat)\\t|\")\n",
    "print(f\"-----------------------------------------------------------------------------------------\\n\\n\")"
   ]
  },
  {
   "cell_type": "code",
   "execution_count": 96,
   "id": "30b2d381-13ab-4163-b39f-59e1a2741da6",
   "metadata": {},
   "outputs": [],
   "source": [
    "update_parameters(parameters, Y, y_hat, A_previous, X)"
   ]
  },
  {
   "cell_type": "code",
   "execution_count": 97,
   "id": "93ac0a01-df2a-4123-8c9f-e1681ae00329",
   "metadata": {},
   "outputs": [
    {
     "data": {
      "text/plain": [
       "{'W1': array([[0.12581512, 0.1       ],\n",
       "        [0.13476694, 0.15837588]]),\n",
       " 'b1': array([[0.00570693],\n",
       "        [0.00568739]]),\n",
       " 'W2': array([[0.17255125],\n",
       "        [0.17201043]]),\n",
       " 'b2': array([[0.1844778]])}"
      ]
     },
     "execution_count": 97,
     "metadata": {},
     "output_type": "execute_result"
    }
   ],
   "source": [
    "parameters"
   ]
  },
  {
   "cell_type": "markdown",
   "id": "8fd8b64d-13c3-4d7d-8388-e87bd718f89e",
   "metadata": {},
   "source": [
    "---"
   ]
  },
  {
   "cell_type": "markdown",
   "id": "2e9f63e0-72d0-46d0-8e1c-d9eafad7e3cb",
   "metadata": {},
   "source": [
    "## Using epochs "
   ]
  },
  {
   "cell_type": "code",
   "execution_count": 101,
   "id": "15e684d8-60eb-4ab6-b0f5-67a2470aded8",
   "metadata": {},
   "outputs": [],
   "source": [
    "def forward_prop(X, params):\n",
    "    A = X\n",
    "    L = len(params) // 2\n",
    "\n",
    "    for l in range(1, L + 1):\n",
    "        A_prev = A\n",
    "        Wl = params['W' + str(l)]\n",
    "        bl = params['b' + str(l)]\n",
    "\n",
    "        A = forward(A_prev, Wl, bl)\n",
    "\n",
    "    return A, A_prev"
   ]
  },
  {
   "cell_type": "code",
   "execution_count": 104,
   "id": "d9a7b1a6-2708-4259-aca9-c0a3390221bf",
   "metadata": {},
   "outputs": [
    {
     "name": "stdout",
     "output_type": "stream",
     "text": [
      "At 1 epoch, loss = 16.91693719042418\n",
      "At 2 epoch, loss = 15.263278522710081\n",
      "At 3 epoch, loss = 13.861415441962475\n",
      "At 4 epoch, loss = 12.297592380996697\n",
      "At 5 epoch, loss = 10.606878486836806\n",
      "At 6 epoch, loss = 8.852720819671084\n",
      "At 7 epoch, loss = 7.121114621384424\n",
      "At 8 epoch, loss = 5.506010162155689\n",
      "At 9 epoch, loss = 4.08933855731013\n",
      "At 10 epoch, loss = 2.923189609412688\n"
     ]
    }
   ],
   "source": [
    "params = initialize_params(network_structure)\n",
    "epochs = 10\n",
    "\n",
    "for i in range(epochs):\n",
    "    \n",
    "    loss = []\n",
    "    \n",
    "    for j in range(X.shape[0]):\n",
    "        \n",
    "        X = df.iloc[j,:-1].values.reshape(2, 1)\n",
    "        Y = df.iloc[j,-1]\n",
    "\n",
    "        y_hat, A_previous = forward_prop(X, params)\n",
    "        y_hat = y_hat[0][0]\n",
    "\n",
    "        update_parameters(params, Y, y_hat, A_previous, X)\n",
    "\n",
    "        loss.append((Y - y_hat) ** 2)\n",
    "\n",
    "    print(f\"At {i + 1} epoch, loss = {np.array(loss).mean()}\")"
   ]
  },
  {
   "cell_type": "code",
   "execution_count": 105,
   "id": "2805edcd-2947-4cea-9ea5-8f72f4dad01e",
   "metadata": {},
   "outputs": [
    {
     "data": {
      "text/plain": [
       "{'W1': array([[0.11404206, 0.1       ],\n",
       "        [0.30284014, 0.33535475]]),\n",
       " 'b1': array([[0.02749546],\n",
       "        [0.02738718]]),\n",
       " 'W2': array([[0.38058758],\n",
       "        [0.38286948]]),\n",
       " 'b2': array([[0.38696901]])}"
      ]
     },
     "execution_count": 105,
     "metadata": {},
     "output_type": "execute_result"
    }
   ],
   "source": [
    "params"
   ]
  },
  {
   "cell_type": "markdown",
   "id": "0c02a80d-9889-483e-82e4-6e31a6ac25f7",
   "metadata": {},
   "source": [
    "<hr>\n",
    "\n",
    "<h2 style=\"text-align: center;\">Using Keras</h2>\n",
    "\n",
    "<hr>"
   ]
  },
  {
   "cell_type": "code",
   "execution_count": 106,
   "id": "586bff77-19a3-4c42-9644-0e86f44cf3ec",
   "metadata": {},
   "outputs": [],
   "source": [
    "import tensorflow\n",
    "from tensorflow import keras\n",
    "from keras import Sequential\n",
    "from keras.layers import Dense"
   ]
  },
  {
   "cell_type": "code",
   "execution_count": 108,
   "id": "760e729a-1cf6-4c88-b8f1-7a1ab6dc633b",
   "metadata": {},
   "outputs": [
    {
     "name": "stderr",
     "output_type": "stream",
     "text": [
      "C:\\Users\\Parth\\AppData\\Local\\Programs\\Python\\Python311\\Lib\\site-packages\\keras\\src\\layers\\core\\dense.py:93: UserWarning: Do not pass an `input_shape`/`input_dim` argument to a layer. When using Sequential models, prefer using an `Input(shape)` object as the first layer in the model instead.\n",
      "  super().__init__(activity_regularizer=activity_regularizer, **kwargs)\n"
     ]
    }
   ],
   "source": [
    "model = Sequential()\n",
    "\n",
    "model.add(Dense(2, activation='linear', input_dim=2))\n",
    "model.add(Dense(1, activation='linear'))"
   ]
  },
  {
   "cell_type": "code",
   "execution_count": 109,
   "id": "ec697e10-5b57-45e4-b466-665628e0601f",
   "metadata": {},
   "outputs": [
    {
     "data": {
      "text/html": [
       "<pre style=\"white-space:pre;overflow-x:auto;line-height:normal;font-family:Menlo,'DejaVu Sans Mono',consolas,'Courier New',monospace\"><span style=\"font-weight: bold\">Model: \"sequential_1\"</span>\n",
       "</pre>\n"
      ],
      "text/plain": [
       "\u001b[1mModel: \"sequential_1\"\u001b[0m\n"
      ]
     },
     "metadata": {},
     "output_type": "display_data"
    },
    {
     "data": {
      "text/html": [
       "<pre style=\"white-space:pre;overflow-x:auto;line-height:normal;font-family:Menlo,'DejaVu Sans Mono',consolas,'Courier New',monospace\">┏━━━━━━━━━━━━━━━━━━━━━━━━━━━━━━━━━━━━━━┳━━━━━━━━━━━━━━━━━━━━━━━━━━━━━┳━━━━━━━━━━━━━━━━━┓\n",
       "┃<span style=\"font-weight: bold\"> Layer (type)                         </span>┃<span style=\"font-weight: bold\"> Output Shape                </span>┃<span style=\"font-weight: bold\">         Param # </span>┃\n",
       "┡━━━━━━━━━━━━━━━━━━━━━━━━━━━━━━━━━━━━━━╇━━━━━━━━━━━━━━━━━━━━━━━━━━━━━╇━━━━━━━━━━━━━━━━━┩\n",
       "│ dense (<span style=\"color: #0087ff; text-decoration-color: #0087ff\">Dense</span>)                        │ (<span style=\"color: #00d7ff; text-decoration-color: #00d7ff\">None</span>, <span style=\"color: #00af00; text-decoration-color: #00af00\">2</span>)                   │               <span style=\"color: #00af00; text-decoration-color: #00af00\">6</span> │\n",
       "├──────────────────────────────────────┼─────────────────────────────┼─────────────────┤\n",
       "│ dense_1 (<span style=\"color: #0087ff; text-decoration-color: #0087ff\">Dense</span>)                      │ (<span style=\"color: #00d7ff; text-decoration-color: #00d7ff\">None</span>, <span style=\"color: #00af00; text-decoration-color: #00af00\">1</span>)                   │               <span style=\"color: #00af00; text-decoration-color: #00af00\">3</span> │\n",
       "└──────────────────────────────────────┴─────────────────────────────┴─────────────────┘\n",
       "</pre>\n"
      ],
      "text/plain": [
       "┏━━━━━━━━━━━━━━━━━━━━━━━━━━━━━━━━━━━━━━┳━━━━━━━━━━━━━━━━━━━━━━━━━━━━━┳━━━━━━━━━━━━━━━━━┓\n",
       "┃\u001b[1m \u001b[0m\u001b[1mLayer (type)                        \u001b[0m\u001b[1m \u001b[0m┃\u001b[1m \u001b[0m\u001b[1mOutput Shape               \u001b[0m\u001b[1m \u001b[0m┃\u001b[1m \u001b[0m\u001b[1m        Param #\u001b[0m\u001b[1m \u001b[0m┃\n",
       "┡━━━━━━━━━━━━━━━━━━━━━━━━━━━━━━━━━━━━━━╇━━━━━━━━━━━━━━━━━━━━━━━━━━━━━╇━━━━━━━━━━━━━━━━━┩\n",
       "│ dense (\u001b[38;5;33mDense\u001b[0m)                        │ (\u001b[38;5;45mNone\u001b[0m, \u001b[38;5;34m2\u001b[0m)                   │               \u001b[38;5;34m6\u001b[0m │\n",
       "├──────────────────────────────────────┼─────────────────────────────┼─────────────────┤\n",
       "│ dense_1 (\u001b[38;5;33mDense\u001b[0m)                      │ (\u001b[38;5;45mNone\u001b[0m, \u001b[38;5;34m1\u001b[0m)                   │               \u001b[38;5;34m3\u001b[0m │\n",
       "└──────────────────────────────────────┴─────────────────────────────┴─────────────────┘\n"
      ]
     },
     "metadata": {},
     "output_type": "display_data"
    },
    {
     "data": {
      "text/html": [
       "<pre style=\"white-space:pre;overflow-x:auto;line-height:normal;font-family:Menlo,'DejaVu Sans Mono',consolas,'Courier New',monospace\"><span style=\"font-weight: bold\"> Total params: </span><span style=\"color: #00af00; text-decoration-color: #00af00\">9</span> (36.00 B)\n",
       "</pre>\n"
      ],
      "text/plain": [
       "\u001b[1m Total params: \u001b[0m\u001b[38;5;34m9\u001b[0m (36.00 B)\n"
      ]
     },
     "metadata": {},
     "output_type": "display_data"
    },
    {
     "data": {
      "text/html": [
       "<pre style=\"white-space:pre;overflow-x:auto;line-height:normal;font-family:Menlo,'DejaVu Sans Mono',consolas,'Courier New',monospace\"><span style=\"font-weight: bold\"> Trainable params: </span><span style=\"color: #00af00; text-decoration-color: #00af00\">9</span> (36.00 B)\n",
       "</pre>\n"
      ],
      "text/plain": [
       "\u001b[1m Trainable params: \u001b[0m\u001b[38;5;34m9\u001b[0m (36.00 B)\n"
      ]
     },
     "metadata": {},
     "output_type": "display_data"
    },
    {
     "data": {
      "text/html": [
       "<pre style=\"white-space:pre;overflow-x:auto;line-height:normal;font-family:Menlo,'DejaVu Sans Mono',consolas,'Courier New',monospace\"><span style=\"font-weight: bold\"> Non-trainable params: </span><span style=\"color: #00af00; text-decoration-color: #00af00\">0</span> (0.00 B)\n",
       "</pre>\n"
      ],
      "text/plain": [
       "\u001b[1m Non-trainable params: \u001b[0m\u001b[38;5;34m0\u001b[0m (0.00 B)\n"
      ]
     },
     "metadata": {},
     "output_type": "display_data"
    }
   ],
   "source": [
    "model.summary()"
   ]
  },
  {
   "cell_type": "code",
   "execution_count": 110,
   "id": "f4f15375-f63d-4208-8996-d9ba5c67e7fe",
   "metadata": {},
   "outputs": [
    {
     "data": {
      "text/plain": [
       "[array([[-0.6460879 , -0.59826964],\n",
       "        [-0.33937663,  0.83501256]], dtype=float32),\n",
       " array([0., 0.], dtype=float32),\n",
       " array([[0.06464183],\n",
       "        [1.1060003 ]], dtype=float32),\n",
       " array([0.], dtype=float32)]"
      ]
     },
     "execution_count": 110,
     "metadata": {},
     "output_type": "execute_result"
    }
   ],
   "source": [
    "model.get_weights()"
   ]
  },
  {
   "cell_type": "code",
   "execution_count": 111,
   "id": "085675e9-d87a-48ab-8e05-3cdb2da1148a",
   "metadata": {},
   "outputs": [],
   "source": [
    "# As above shows, keras has initialized weights in his own way, but we want to initialize weights in our own way\n",
    "new_weights = [np.array([[0.1, 0.1], \n",
    "                         [0.1, 0.1]], dtype=np.float32),\n",
    "              np.array([0., 0.], dtype=np.float32),\n",
    "              np.array([[0.1],\n",
    "                        [0.1]], dtype=np.float32),\n",
    "              np.array([0.], dtype=np.float32)]"
   ]
  },
  {
   "cell_type": "code",
   "execution_count": 112,
   "id": "cb0508a4-0256-407b-a0f6-50ada7aefaff",
   "metadata": {},
   "outputs": [],
   "source": [
    "model.set_weights(new_weights)"
   ]
  },
  {
   "cell_type": "code",
   "execution_count": 113,
   "id": "e6e62ce3-34bb-48b2-b1d7-1644ad523d4b",
   "metadata": {},
   "outputs": [
    {
     "data": {
      "text/plain": [
       "[array([[0.1, 0.1],\n",
       "        [0.1, 0.1]], dtype=float32),\n",
       " array([0., 0.], dtype=float32),\n",
       " array([[0.1],\n",
       "        [0.1]], dtype=float32),\n",
       " array([0.], dtype=float32)]"
      ]
     },
     "execution_count": 113,
     "metadata": {},
     "output_type": "execute_result"
    }
   ],
   "source": [
    "model.get_weights()"
   ]
  },
  {
   "cell_type": "code",
   "execution_count": 116,
   "id": "44f3cf13-0c78-471b-9dc5-a55c73f7a743",
   "metadata": {},
   "outputs": [],
   "source": [
    "optimizer = keras.optimizers.Adam(learning_rate=0.001)\n",
    "model.compile(loss='mean_squared_error', optimizer=optimizer)"
   ]
  },
  {
   "cell_type": "code",
   "execution_count": 117,
   "id": "f41d27c2-08d7-4dbe-88e6-7d560aff9906",
   "metadata": {},
   "outputs": [
    {
     "name": "stdout",
     "output_type": "stream",
     "text": [
      "Epoch 1/75\n",
      "\u001b[1m4/4\u001b[0m \u001b[32m━━━━━━━━━━━━━━━━━━━━\u001b[0m\u001b[37m\u001b[0m \u001b[1m0s\u001b[0m 7ms/step - loss: 4.8128  \n",
      "Epoch 2/75\n",
      "\u001b[1m4/4\u001b[0m \u001b[32m━━━━━━━━━━━━━━━━━━━━\u001b[0m\u001b[37m\u001b[0m \u001b[1m0s\u001b[0m 8ms/step - loss: 4.5304 \n",
      "Epoch 3/75\n",
      "\u001b[1m4/4\u001b[0m \u001b[32m━━━━━━━━━━━━━━━━━━━━\u001b[0m\u001b[37m\u001b[0m \u001b[1m0s\u001b[0m 8ms/step - loss: 3.8146 \n",
      "Epoch 4/75\n",
      "\u001b[1m4/4\u001b[0m \u001b[32m━━━━━━━━━━━━━━━━━━━━\u001b[0m\u001b[37m\u001b[0m \u001b[1m0s\u001b[0m 8ms/step - loss: 6.6691  \n",
      "Epoch 5/75\n",
      "\u001b[1m4/4\u001b[0m \u001b[32m━━━━━━━━━━━━━━━━━━━━\u001b[0m\u001b[37m\u001b[0m \u001b[1m0s\u001b[0m 11ms/step - loss: 5.4906\n",
      "Epoch 6/75\n",
      "\u001b[1m4/4\u001b[0m \u001b[32m━━━━━━━━━━━━━━━━━━━━\u001b[0m\u001b[37m\u001b[0m \u001b[1m0s\u001b[0m 8ms/step - loss: 4.3749 \n",
      "Epoch 7/75\n",
      "\u001b[1m4/4\u001b[0m \u001b[32m━━━━━━━━━━━━━━━━━━━━\u001b[0m\u001b[37m\u001b[0m \u001b[1m0s\u001b[0m 7ms/step - loss: 5.3266 \n",
      "Epoch 8/75\n",
      "\u001b[1m4/4\u001b[0m \u001b[32m━━━━━━━━━━━━━━━━━━━━\u001b[0m\u001b[37m\u001b[0m \u001b[1m0s\u001b[0m 9ms/step - loss: 4.4405 \n",
      "Epoch 9/75\n",
      "\u001b[1m4/4\u001b[0m \u001b[32m━━━━━━━━━━━━━━━━━━━━\u001b[0m\u001b[37m\u001b[0m \u001b[1m0s\u001b[0m 4ms/step - loss: 4.5111 \n",
      "Epoch 10/75\n",
      "\u001b[1m4/4\u001b[0m \u001b[32m━━━━━━━━━━━━━━━━━━━━\u001b[0m\u001b[37m\u001b[0m \u001b[1m0s\u001b[0m 9ms/step - loss: 1.7898 \n",
      "Epoch 11/75\n",
      "\u001b[1m4/4\u001b[0m \u001b[32m━━━━━━━━━━━━━━━━━━━━\u001b[0m\u001b[37m\u001b[0m \u001b[1m0s\u001b[0m 12ms/step - loss: 2.5546\n",
      "Epoch 12/75\n",
      "\u001b[1m4/4\u001b[0m \u001b[32m━━━━━━━━━━━━━━━━━━━━\u001b[0m\u001b[37m\u001b[0m \u001b[1m0s\u001b[0m 7ms/step - loss: 3.8903 \n",
      "Epoch 13/75\n",
      "\u001b[1m4/4\u001b[0m \u001b[32m━━━━━━━━━━━━━━━━━━━━\u001b[0m\u001b[37m\u001b[0m \u001b[1m0s\u001b[0m 7ms/step - loss: 2.5499 \n",
      "Epoch 14/75\n",
      "\u001b[1m4/4\u001b[0m \u001b[32m━━━━━━━━━━━━━━━━━━━━\u001b[0m\u001b[37m\u001b[0m \u001b[1m0s\u001b[0m 8ms/step - loss: 3.4105 \n",
      "Epoch 15/75\n",
      "\u001b[1m4/4\u001b[0m \u001b[32m━━━━━━━━━━━━━━━━━━━━\u001b[0m\u001b[37m\u001b[0m \u001b[1m0s\u001b[0m 7ms/step - loss: 3.0284 \n",
      "Epoch 16/75\n",
      "\u001b[1m4/4\u001b[0m \u001b[32m━━━━━━━━━━━━━━━━━━━━\u001b[0m\u001b[37m\u001b[0m \u001b[1m0s\u001b[0m 7ms/step - loss: 2.6087 \n",
      "Epoch 17/75\n",
      "\u001b[1m4/4\u001b[0m \u001b[32m━━━━━━━━━━━━━━━━━━━━\u001b[0m\u001b[37m\u001b[0m \u001b[1m0s\u001b[0m 9ms/step - loss: 1.6403 \n",
      "Epoch 18/75\n",
      "\u001b[1m4/4\u001b[0m \u001b[32m━━━━━━━━━━━━━━━━━━━━\u001b[0m\u001b[37m\u001b[0m \u001b[1m0s\u001b[0m 14ms/step - loss: 2.3038\n",
      "Epoch 19/75\n",
      "\u001b[1m4/4\u001b[0m \u001b[32m━━━━━━━━━━━━━━━━━━━━\u001b[0m\u001b[37m\u001b[0m \u001b[1m0s\u001b[0m 9ms/step - loss: 2.5419 \n",
      "Epoch 20/75\n",
      "\u001b[1m4/4\u001b[0m \u001b[32m━━━━━━━━━━━━━━━━━━━━\u001b[0m\u001b[37m\u001b[0m \u001b[1m0s\u001b[0m 9ms/step - loss: 2.0078 \n",
      "Epoch 21/75\n",
      "\u001b[1m4/4\u001b[0m \u001b[32m━━━━━━━━━━━━━━━━━━━━\u001b[0m\u001b[37m\u001b[0m \u001b[1m0s\u001b[0m 13ms/step - loss: 1.4923\n",
      "Epoch 22/75\n",
      "\u001b[1m4/4\u001b[0m \u001b[32m━━━━━━━━━━━━━━━━━━━━\u001b[0m\u001b[37m\u001b[0m \u001b[1m0s\u001b[0m 7ms/step - loss: 2.1171 \n",
      "Epoch 23/75\n",
      "\u001b[1m4/4\u001b[0m \u001b[32m━━━━━━━━━━━━━━━━━━━━\u001b[0m\u001b[37m\u001b[0m \u001b[1m0s\u001b[0m 9ms/step - loss: 1.6822 \n",
      "Epoch 24/75\n",
      "\u001b[1m4/4\u001b[0m \u001b[32m━━━━━━━━━━━━━━━━━━━━\u001b[0m\u001b[37m\u001b[0m \u001b[1m0s\u001b[0m 3ms/step - loss: 1.4906 \n",
      "Epoch 25/75\n",
      "\u001b[1m4/4\u001b[0m \u001b[32m━━━━━━━━━━━━━━━━━━━━\u001b[0m\u001b[37m\u001b[0m \u001b[1m0s\u001b[0m 9ms/step - loss: 1.2555 \n",
      "Epoch 26/75\n",
      "\u001b[1m4/4\u001b[0m \u001b[32m━━━━━━━━━━━━━━━━━━━━\u001b[0m\u001b[37m\u001b[0m \u001b[1m0s\u001b[0m 10ms/step - loss: 1.9200\n",
      "Epoch 27/75\n",
      "\u001b[1m4/4\u001b[0m \u001b[32m━━━━━━━━━━━━━━━━━━━━\u001b[0m\u001b[37m\u001b[0m \u001b[1m0s\u001b[0m 9ms/step - loss: 1.3645 \n",
      "Epoch 28/75\n",
      "\u001b[1m4/4\u001b[0m \u001b[32m━━━━━━━━━━━━━━━━━━━━\u001b[0m\u001b[37m\u001b[0m \u001b[1m0s\u001b[0m 6ms/step - loss: 0.8575 \n",
      "Epoch 29/75\n",
      "\u001b[1m4/4\u001b[0m \u001b[32m━━━━━━━━━━━━━━━━━━━━\u001b[0m\u001b[37m\u001b[0m \u001b[1m0s\u001b[0m 7ms/step - loss: 1.5457 \n",
      "Epoch 30/75\n",
      "\u001b[1m4/4\u001b[0m \u001b[32m━━━━━━━━━━━━━━━━━━━━\u001b[0m\u001b[37m\u001b[0m \u001b[1m0s\u001b[0m 8ms/step - loss: 1.0542 \n",
      "Epoch 31/75\n",
      "\u001b[1m4/4\u001b[0m \u001b[32m━━━━━━━━━━━━━━━━━━━━\u001b[0m\u001b[37m\u001b[0m \u001b[1m0s\u001b[0m 8ms/step - loss: 0.9385 \n",
      "Epoch 32/75\n",
      "\u001b[1m4/4\u001b[0m \u001b[32m━━━━━━━━━━━━━━━━━━━━\u001b[0m\u001b[37m\u001b[0m \u001b[1m0s\u001b[0m 8ms/step - loss: 0.7352 \n",
      "Epoch 33/75\n",
      "\u001b[1m4/4\u001b[0m \u001b[32m━━━━━━━━━━━━━━━━━━━━\u001b[0m\u001b[37m\u001b[0m \u001b[1m0s\u001b[0m 7ms/step - loss: 1.1898 \n",
      "Epoch 34/75\n",
      "\u001b[1m4/4\u001b[0m \u001b[32m━━━━━━━━━━━━━━━━━━━━\u001b[0m\u001b[37m\u001b[0m \u001b[1m0s\u001b[0m 9ms/step - loss: 1.2361 \n",
      "Epoch 35/75\n",
      "\u001b[1m4/4\u001b[0m \u001b[32m━━━━━━━━━━━━━━━━━━━━\u001b[0m\u001b[37m\u001b[0m \u001b[1m0s\u001b[0m 7ms/step - loss: 1.5097 \n",
      "Epoch 36/75\n",
      "\u001b[1m4/4\u001b[0m \u001b[32m━━━━━━━━━━━━━━━━━━━━\u001b[0m\u001b[37m\u001b[0m \u001b[1m0s\u001b[0m 14ms/step - loss: 1.4890\n",
      "Epoch 37/75\n",
      "\u001b[1m4/4\u001b[0m \u001b[32m━━━━━━━━━━━━━━━━━━━━\u001b[0m\u001b[37m\u001b[0m \u001b[1m0s\u001b[0m 12ms/step - loss: 1.2935\n",
      "Epoch 38/75\n",
      "\u001b[1m4/4\u001b[0m \u001b[32m━━━━━━━━━━━━━━━━━━━━\u001b[0m\u001b[37m\u001b[0m \u001b[1m0s\u001b[0m 10ms/step - loss: 0.6532\n",
      "Epoch 39/75\n",
      "\u001b[1m4/4\u001b[0m \u001b[32m━━━━━━━━━━━━━━━━━━━━\u001b[0m\u001b[37m\u001b[0m \u001b[1m0s\u001b[0m 9ms/step - loss: 1.3795 \n",
      "Epoch 40/75\n",
      "\u001b[1m4/4\u001b[0m \u001b[32m━━━━━━━━━━━━━━━━━━━━\u001b[0m\u001b[37m\u001b[0m \u001b[1m0s\u001b[0m 9ms/step - loss: 0.8932 \n",
      "Epoch 41/75\n",
      "\u001b[1m4/4\u001b[0m \u001b[32m━━━━━━━━━━━━━━━━━━━━\u001b[0m\u001b[37m\u001b[0m \u001b[1m0s\u001b[0m 8ms/step - loss: 1.4216 \n",
      "Epoch 42/75\n",
      "\u001b[1m4/4\u001b[0m \u001b[32m━━━━━━━━━━━━━━━━━━━━\u001b[0m\u001b[37m\u001b[0m \u001b[1m0s\u001b[0m 8ms/step - loss: 0.7267 \n",
      "Epoch 43/75\n",
      "\u001b[1m4/4\u001b[0m \u001b[32m━━━━━━━━━━━━━━━━━━━━\u001b[0m\u001b[37m\u001b[0m \u001b[1m0s\u001b[0m 9ms/step - loss: 0.6529 \n",
      "Epoch 44/75\n",
      "\u001b[1m4/4\u001b[0m \u001b[32m━━━━━━━━━━━━━━━━━━━━\u001b[0m\u001b[37m\u001b[0m \u001b[1m0s\u001b[0m 9ms/step - loss: 1.2717 \n",
      "Epoch 45/75\n",
      "\u001b[1m4/4\u001b[0m \u001b[32m━━━━━━━━━━━━━━━━━━━━\u001b[0m\u001b[37m\u001b[0m \u001b[1m0s\u001b[0m 9ms/step - loss: 0.9888 \n",
      "Epoch 46/75\n",
      "\u001b[1m4/4\u001b[0m \u001b[32m━━━━━━━━━━━━━━━━━━━━\u001b[0m\u001b[37m\u001b[0m \u001b[1m0s\u001b[0m 10ms/step - loss: 1.4156\n",
      "Epoch 47/75\n",
      "\u001b[1m4/4\u001b[0m \u001b[32m━━━━━━━━━━━━━━━━━━━━\u001b[0m\u001b[37m\u001b[0m \u001b[1m0s\u001b[0m 10ms/step - loss: 1.4143\n",
      "Epoch 48/75\n",
      "\u001b[1m4/4\u001b[0m \u001b[32m━━━━━━━━━━━━━━━━━━━━\u001b[0m\u001b[37m\u001b[0m \u001b[1m0s\u001b[0m 8ms/step - loss: 1.2285 \n",
      "Epoch 49/75\n",
      "\u001b[1m4/4\u001b[0m \u001b[32m━━━━━━━━━━━━━━━━━━━━\u001b[0m\u001b[37m\u001b[0m \u001b[1m0s\u001b[0m 9ms/step - loss: 0.8717 \n",
      "Epoch 50/75\n",
      "\u001b[1m4/4\u001b[0m \u001b[32m━━━━━━━━━━━━━━━━━━━━\u001b[0m\u001b[37m\u001b[0m \u001b[1m0s\u001b[0m 9ms/step - loss: 0.8111 \n",
      "Epoch 51/75\n",
      "\u001b[1m4/4\u001b[0m \u001b[32m━━━━━━━━━━━━━━━━━━━━\u001b[0m\u001b[37m\u001b[0m \u001b[1m0s\u001b[0m 7ms/step - loss: 1.3618 \n",
      "Epoch 52/75\n",
      "\u001b[1m4/4\u001b[0m \u001b[32m━━━━━━━━━━━━━━━━━━━━\u001b[0m\u001b[37m\u001b[0m \u001b[1m0s\u001b[0m 9ms/step - loss: 1.3533 \n",
      "Epoch 53/75\n",
      "\u001b[1m4/4\u001b[0m \u001b[32m━━━━━━━━━━━━━━━━━━━━\u001b[0m\u001b[37m\u001b[0m \u001b[1m0s\u001b[0m 8ms/step - loss: 0.7584 \n",
      "Epoch 54/75\n",
      "\u001b[1m4/4\u001b[0m \u001b[32m━━━━━━━━━━━━━━━━━━━━\u001b[0m\u001b[37m\u001b[0m \u001b[1m0s\u001b[0m 13ms/step - loss: 1.1918\n",
      "Epoch 55/75\n",
      "\u001b[1m4/4\u001b[0m \u001b[32m━━━━━━━━━━━━━━━━━━━━\u001b[0m\u001b[37m\u001b[0m \u001b[1m0s\u001b[0m 8ms/step - loss: 1.1844 \n",
      "Epoch 56/75\n",
      "\u001b[1m4/4\u001b[0m \u001b[32m━━━━━━━━━━━━━━━━━━━━\u001b[0m\u001b[37m\u001b[0m \u001b[1m0s\u001b[0m 6ms/step - loss: 1.3395 \n",
      "Epoch 57/75\n",
      "\u001b[1m4/4\u001b[0m \u001b[32m━━━━━━━━━━━━━━━━━━━━\u001b[0m\u001b[37m\u001b[0m \u001b[1m0s\u001b[0m 9ms/step - loss: 1.3916 \n",
      "Epoch 58/75\n",
      "\u001b[1m4/4\u001b[0m \u001b[32m━━━━━━━━━━━━━━━━━━━━\u001b[0m\u001b[37m\u001b[0m \u001b[1m0s\u001b[0m 12ms/step - loss: 1.1399\n",
      "Epoch 59/75\n",
      "\u001b[1m4/4\u001b[0m \u001b[32m━━━━━━━━━━━━━━━━━━━━\u001b[0m\u001b[37m\u001b[0m \u001b[1m0s\u001b[0m 9ms/step - loss: 1.3111 \n",
      "Epoch 60/75\n",
      "\u001b[1m4/4\u001b[0m \u001b[32m━━━━━━━━━━━━━━━━━━━━\u001b[0m\u001b[37m\u001b[0m \u001b[1m0s\u001b[0m 9ms/step - loss: 1.1542 \n",
      "Epoch 61/75\n",
      "\u001b[1m4/4\u001b[0m \u001b[32m━━━━━━━━━━━━━━━━━━━━\u001b[0m\u001b[37m\u001b[0m \u001b[1m0s\u001b[0m 7ms/step - loss: 1.3000 \n",
      "Epoch 62/75\n",
      "\u001b[1m4/4\u001b[0m \u001b[32m━━━━━━━━━━━━━━━━━━━━\u001b[0m\u001b[37m\u001b[0m \u001b[1m0s\u001b[0m 9ms/step - loss: 0.8484 \n",
      "Epoch 63/75\n",
      "\u001b[1m4/4\u001b[0m \u001b[32m━━━━━━━━━━━━━━━━━━━━\u001b[0m\u001b[37m\u001b[0m \u001b[1m0s\u001b[0m 12ms/step - loss: 1.1721\n",
      "Epoch 64/75\n",
      "\u001b[1m4/4\u001b[0m \u001b[32m━━━━━━━━━━━━━━━━━━━━\u001b[0m\u001b[37m\u001b[0m \u001b[1m0s\u001b[0m 9ms/step - loss: 0.9036 \n",
      "Epoch 65/75\n",
      "\u001b[1m4/4\u001b[0m \u001b[32m━━━━━━━━━━━━━━━━━━━━\u001b[0m\u001b[37m\u001b[0m \u001b[1m0s\u001b[0m 8ms/step - loss: 1.1807 \n",
      "Epoch 66/75\n",
      "\u001b[1m4/4\u001b[0m \u001b[32m━━━━━━━━━━━━━━━━━━━━\u001b[0m\u001b[37m\u001b[0m \u001b[1m0s\u001b[0m 4ms/step - loss: 0.6439 \n",
      "Epoch 67/75\n",
      "\u001b[1m4/4\u001b[0m \u001b[32m━━━━━━━━━━━━━━━━━━━━\u001b[0m\u001b[37m\u001b[0m \u001b[1m0s\u001b[0m 9ms/step - loss: 1.2924 \n",
      "Epoch 68/75\n",
      "\u001b[1m4/4\u001b[0m \u001b[32m━━━━━━━━━━━━━━━━━━━━\u001b[0m\u001b[37m\u001b[0m \u001b[1m0s\u001b[0m 9ms/step - loss: 0.8872 \n",
      "Epoch 69/75\n",
      "\u001b[1m4/4\u001b[0m \u001b[32m━━━━━━━━━━━━━━━━━━━━\u001b[0m\u001b[37m\u001b[0m \u001b[1m0s\u001b[0m 8ms/step - loss: 0.8821 \n",
      "Epoch 70/75\n",
      "\u001b[1m4/4\u001b[0m \u001b[32m━━━━━━━━━━━━━━━━━━━━\u001b[0m\u001b[37m\u001b[0m \u001b[1m0s\u001b[0m 10ms/step - loss: 0.8782\n",
      "Epoch 71/75\n",
      "\u001b[1m4/4\u001b[0m \u001b[32m━━━━━━━━━━━━━━━━━━━━\u001b[0m\u001b[37m\u001b[0m \u001b[1m0s\u001b[0m 13ms/step - loss: 0.8433\n",
      "Epoch 72/75\n",
      "\u001b[1m4/4\u001b[0m \u001b[32m━━━━━━━━━━━━━━━━━━━━\u001b[0m\u001b[37m\u001b[0m \u001b[1m0s\u001b[0m 16ms/step - loss: 1.1711\n",
      "Epoch 73/75\n",
      "\u001b[1m4/4\u001b[0m \u001b[32m━━━━━━━━━━━━━━━━━━━━\u001b[0m\u001b[37m\u001b[0m \u001b[1m0s\u001b[0m 10ms/step - loss: 0.6327\n",
      "Epoch 74/75\n",
      "\u001b[1m4/4\u001b[0m \u001b[32m━━━━━━━━━━━━━━━━━━━━\u001b[0m\u001b[37m\u001b[0m \u001b[1m0s\u001b[0m 8ms/step - loss: 1.1083 \n",
      "Epoch 75/75\n",
      "\u001b[1m4/4\u001b[0m \u001b[32m━━━━━━━━━━━━━━━━━━━━\u001b[0m\u001b[37m\u001b[0m \u001b[1m0s\u001b[0m 11ms/step - loss: 0.7524\n"
     ]
    },
    {
     "data": {
      "text/plain": [
       "<keras.src.callbacks.history.History at 0x2c52ba9b2d0>"
      ]
     },
     "execution_count": 117,
     "metadata": {},
     "output_type": "execute_result"
    }
   ],
   "source": [
    "model.fit(df.iloc[:,:-1].values, df['lpa'].values, epochs=75, verbose=1, batch_size=1)"
   ]
  },
  {
   "cell_type": "code",
   "execution_count": 118,
   "id": "9dcb7b70-b260-4859-a598-6fe6483eb2e9",
   "metadata": {},
   "outputs": [
    {
     "data": {
      "text/plain": [
       "[array([[0.36987755, 0.36987755],\n",
       "        [0.40488473, 0.40488473]], dtype=float32),\n",
       " array([0.2940629, 0.2940629], dtype=float32),\n",
       " array([[0.3968211],\n",
       "        [0.3968211]], dtype=float32),\n",
       " array([0.24750356], dtype=float32)]"
      ]
     },
     "execution_count": 118,
     "metadata": {},
     "output_type": "execute_result"
    }
   ],
   "source": [
    "model.get_weights()"
   ]
  }
 ],
 "metadata": {
  "kernelspec": {
   "display_name": "Python 3.11 (tfenv)",
   "language": "python",
   "name": "tfenv"
  },
  "language_info": {
   "codemirror_mode": {
    "name": "ipython",
    "version": 3
   },
   "file_extension": ".py",
   "mimetype": "text/x-python",
   "name": "python",
   "nbconvert_exporter": "python",
   "pygments_lexer": "ipython3",
   "version": "3.11.6"
  }
 },
 "nbformat": 4,
 "nbformat_minor": 5
}
